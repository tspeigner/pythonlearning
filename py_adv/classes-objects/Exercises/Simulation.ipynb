{
 "cells": [
  {
   "cell_type": "markdown",
   "metadata": {},
   "source": [
    "# Simulation Class"
   ]
  },
  {
   "cell_type": "code",
   "execution_count": null,
   "metadata": {
    "collapsed": false
   },
   "outputs": [],
   "source": [
    "import statistics as stats\n",
    "from Die import Die"
   ]
  },
  {
   "cell_type": "code",
   "execution_count": null,
   "metadata": {
    "collapsed": false
   },
   "outputs": [],
   "source": [
    "class Simulation:\n",
    "    def __init__(self, fnct_to_run, iterations):\n",
    "        self._fnct_to_run = fnct_to_run\n",
    "        self._iterations = iterations\n",
    "        self._results = []\n",
    "        self.run()\n",
    "        \n",
    "    def run(self):\n",
    "        for i in range(self._iterations):\n",
    "            result = self._fnct_to_run()\n",
    "            self._results.append(result)\n",
    "    \n",
    "    def get_mean(self):\n",
    "        return stats.mean(self._results)\n",
    "    \n",
    "    def get_median(self):\n",
    "        return stats.median(self._results)\n",
    "    \n",
    "    def get_mode(self):\n",
    "        try:\n",
    "            return stats.mode(self._results)\n",
    "        except:\n",
    "            return None\n",
    "        \n",
    "die = Die()\n",
    "sim = Simulation(die.roll, 1000)\n",
    "sim.get_mean(), sim.get_median(), sim.get_mode()"
   ]
  }
 ],
 "metadata": {
  "kernelspec": {
   "display_name": "Python 3",
   "language": "python",
   "name": "python3"
  },
  "language_info": {
   "codemirror_mode": {
    "name": "ipython",
    "version": 3
   },
   "file_extension": ".py",
   "mimetype": "text/x-python",
   "name": "python",
   "nbconvert_exporter": "python",
   "pygments_lexer": "ipython3",
   "version": "3.4.3"
  }
 },
 "nbformat": 4,
 "nbformat_minor": 0
}
