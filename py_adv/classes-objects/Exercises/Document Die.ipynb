{
 "cells": [
  {
   "cell_type": "markdown",
   "metadata": {},
   "source": [
    "# Document Die Solution"
   ]
  },
  {
   "cell_type": "code",
   "execution_count": null,
   "metadata": {
    "collapsed": true
   },
   "outputs": [],
   "source": [
    "import random\n",
    "\n",
    "class Die:\n",
    "    def __init__(self, sides=6):\n",
    "        if type(sides) != int or sides < 1:\n",
    "            raise Exception('sides must be a positive integer.')\n",
    "        self._sides = sides\n",
    "        self._rolls = []\n",
    "    \n",
    "    @property\n",
    "    def rolls(self):\n",
    "        return self._rolls\n",
    "        \n",
    "    def roll(self):\n",
    "        roll = random.randint(1, self._sides)\n",
    "        self._rolls.append(roll)\n",
    "        return roll"
   ]
  }
 ],
 "metadata": {
  "kernelspec": {
   "display_name": "Python 3",
   "language": "python",
   "name": "python3"
  },
  "language_info": {
   "codemirror_mode": {
    "name": "ipython",
    "version": 3
   },
   "file_extension": ".py",
   "mimetype": "text/x-python",
   "name": "python",
   "nbconvert_exporter": "python",
   "pygments_lexer": "ipython3",
   "version": "3.4.3"
  }
 },
 "nbformat": 4,
 "nbformat_minor": 0
}
