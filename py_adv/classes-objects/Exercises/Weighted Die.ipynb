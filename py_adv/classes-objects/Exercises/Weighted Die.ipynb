{
 "cells": [
  {
   "cell_type": "markdown",
   "metadata": {},
   "source": [
    "# Weighted Die"
   ]
  },
  {
   "cell_type": "code",
   "execution_count": null,
   "metadata": {
    "collapsed": true
   },
   "outputs": [],
   "source": [
    "import random\n",
    "from collections import Counter\n",
    "\n",
    "class Die:\n",
    "    \"A die\"\n",
    "    def __init__(self, sides=6):\n",
    "        \"\"\"Creates a new standard die\n",
    "        \n",
    "        Keyword arguments:\n",
    "        sides (int) -- number of die sides.\n",
    "        \"\"\"\n",
    "        if type(sides) != int or sides < 1:\n",
    "            raise Exception('sides must be a positive integer.')\n",
    "        self._sides = sides\n",
    "        self._rolls = []\n",
    "    \n",
    "    @property\n",
    "    def rolls(self):\n",
    "        \"history of rolls\"\n",
    "        return self._rolls\n",
    "        \n",
    "    def roll(self):\n",
    "        \"Returns a value between 1 and the number of die sides.\"\n",
    "        roll = random.randint(1, self._sides)\n",
    "        self._rolls.append(roll)\n",
    "        return roll"
   ]
  },
  {
   "cell_type": "code",
   "execution_count": null,
   "metadata": {
    "collapsed": true
   },
   "outputs": [],
   "source": [
    "class WeightedDie(Die):\n",
    "    \"A weighted die\"\n",
    "    def __init__(self, weights, sides=6):\n",
    "        \"\"\"Creates a new weighted die\n",
    "        \n",
    "        Keyword arguments:\n",
    "        sides (int) -- number of die sides.\n",
    "        weights (list) -- a list of integers holding the weights for each die side\n",
    "        \"\"\"\n",
    "        if len(weights) != sides:\n",
    "            raise Exception('weights must be a list of length {}.'.format(sides))\n",
    "        super().__init__(sides)\n",
    "        self._weights = weights\n",
    "    \n",
    "    def roll(self):\n",
    "        \"\"\"Returns a value between 1 and the number of die sides.\"\"\"\n",
    "        #COMPLETE THIS CODE\n",
    "        return roll"
   ]
  },
  {
   "cell_type": "code",
   "execution_count": null,
   "metadata": {
    "collapsed": false
   },
   "outputs": [],
   "source": [
    "die = WeightedDie(weights=[1,1,1,1,1,5])\n",
    "\n",
    "for i in range(100000):\n",
    "    die.roll()\n",
    "    \n",
    "c = Counter(die.rolls)\n",
    "c_sorted = sorted(c.items())\n",
    "c_sorted"
   ]
  }
 ],
 "metadata": {
  "kernelspec": {
   "display_name": "Python 3",
   "language": "python",
   "name": "python3"
  },
  "language_info": {
   "codemirror_mode": {
    "name": "ipython",
    "version": 3
   },
   "file_extension": ".py",
   "mimetype": "text/x-python",
   "name": "python",
   "nbconvert_exporter": "python",
   "pygments_lexer": "ipython3",
   "version": "3.4.3"
  }
 },
 "nbformat": 4,
 "nbformat_minor": 0
}
