{
 "cells": [
  {
   "cell_type": "markdown",
   "metadata": {},
   "source": [
    "# Weighting Die"
   ]
  },
  {
   "cell_type": "code",
   "execution_count": null,
   "metadata": {
    "collapsed": true
   },
   "outputs": [],
   "source": [
    "import random\n",
    "from collections import Counter\n",
    "\n",
    "class Die:\n",
    "    \"A die\"\n",
    "    def __init__(self, sides=6):\n",
    "        \"\"\"Creates a new standard die\n",
    "        \n",
    "        Keyword arguments:\n",
    "        sides (int) -- number of die sides.\n",
    "        \"\"\"\n",
    "        if type(sides) != int or sides < 1:\n",
    "            raise Exception('sides must be a positive integer.')\n",
    "        self._sides = sides\n",
    "        self._rolls = []\n",
    "    \n",
    "    @property\n",
    "    def rolls(self):\n",
    "        \"history of rolls\"\n",
    "        return self._rolls\n",
    "        \n",
    "    def roll(self):\n",
    "        \"Returns a value between 1 and the number of die sides.\"\n",
    "        roll = random.randint(1, self._sides)\n",
    "        self._rolls.append(roll)\n",
    "        return roll"
   ]
  },
  {
   "cell_type": "code",
   "execution_count": null,
   "metadata": {
    "collapsed": true
   },
   "outputs": [],
   "source": [
    "class WeightedDie(Die):\n",
    "    \"A weighted die\"\n",
    "    def __init__(self, weights, sides=6):\n",
    "        \"\"\"Creates a new weighted die\n",
    "        \n",
    "        Keyword arguments:\n",
    "        sides (int) -- number of die sides.\n",
    "        weights (list) -- a list of integers holding the weights for each die side\n",
    "        \"\"\"\n",
    "        if len(weights) != sides:\n",
    "            raise Exception('weights must be a list of length {}.'.format(sides))\n",
    "        super().__init__(sides)\n",
    "        self._weights = weights\n",
    "    \n",
    "    def roll(self):\n",
    "        \"\"\"Returns a value between 1 and the number of die sides.\"\"\"\n",
    "        options = []\n",
    "        for i in range(self._sides):\n",
    "            for j in range(self._weights[i]):\n",
    "                options.append(i+1)\n",
    "        roll = random.choice(options)\n",
    "        self._rolls.append(roll)\n",
    "        return roll"
   ]
  },
  {
   "cell_type": "code",
   "execution_count": null,
   "metadata": {
    "collapsed": true
   },
   "outputs": [],
   "source": [
    "class WeightingDie(WeightedDie):\n",
    "    \"\"\"A die that starts with equal weights on each side, \n",
    "    but becomes weighted by giving more weight to rolls it \n",
    "    has rolled before.\n",
    "    \"\"\"\n",
    "    def __init__(self, sides=6):\n",
    "        \"\"\"Creates a die that favors sides it has previously rolled\n",
    "        \n",
    "        Keyword arguments:\n",
    "        sides (int) -- number of die sides.\n",
    "        \"\"\"\n",
    "        self._weights = [1] * sides\n",
    "        super().__init__(self._weights, sides)\n",
    "    \n",
    "    def roll(self):\n",
    "        \"\"\"Returns a value between 1 and the number of die sides.\"\"\"\n",
    "        result = super().roll()\n",
    "        self._weights[result-1] += 1\n",
    "        return result"
   ]
  },
  {
   "cell_type": "code",
   "execution_count": null,
   "metadata": {
    "collapsed": false
   },
   "outputs": [],
   "source": [
    "die = WeightingDie()\n",
    "\n",
    "for i in range(1000):\n",
    "    die.roll()\n",
    "    \n",
    "c = Counter(die.rolls)\n",
    "c_sorted = sorted(c.items())\n",
    "c_sorted"
   ]
  }
 ],
 "metadata": {
  "kernelspec": {
   "display_name": "Python 3",
   "language": "python",
   "name": "python3"
  },
  "language_info": {
   "codemirror_mode": {
    "name": "ipython",
    "version": 3
   },
   "file_extension": ".py",
   "mimetype": "text/x-python",
   "name": "python",
   "nbconvert_exporter": "python",
   "pygments_lexer": "ipython3",
   "version": "3.4.3"
  }
 },
 "nbformat": 4,
 "nbformat_minor": 0
}
