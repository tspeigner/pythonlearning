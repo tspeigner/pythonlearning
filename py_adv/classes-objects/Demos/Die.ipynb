{
 "cells": [
  {
   "cell_type": "markdown",
   "metadata": {},
   "source": [
    "## Imports\n",
    "Import modules used in this notebook"
   ]
  },
  {
   "cell_type": "code",
   "execution_count": null,
   "metadata": {
    "collapsed": true
   },
   "outputs": [],
   "source": [
    "import random\n",
    "from collections import Counter\n",
    "import statistics as stats"
   ]
  },
  {
   "cell_type": "markdown",
   "metadata": {},
   "source": [
    "## Simple Class\n",
    "Discuss pseudo-private attributes"
   ]
  },
  {
   "cell_type": "code",
   "execution_count": null,
   "metadata": {
    "collapsed": false
   },
   "outputs": [],
   "source": [
    "class Die:\n",
    "    pass\n",
    "\n",
    "die = Die()"
   ]
  },
  {
   "cell_type": "code",
   "execution_count": null,
   "metadata": {
    "collapsed": false
   },
   "outputs": [],
   "source": [
    "class Die:\n",
    "    def __init__(self, sides=6):\n",
    "        self.sides = sides\n",
    "\n",
    "die1 = Die()\n",
    "print('Die 1 has {} sides.'.format(die1.sides))\n",
    "\n",
    "die2 = Die(8)\n",
    "print('Die 2 has {} sides.'.format(die2.sides))"
   ]
  },
  {
   "cell_type": "code",
   "execution_count": null,
   "metadata": {
    "collapsed": false
   },
   "outputs": [],
   "source": [
    "class Die:\n",
    "    def __init__(self, sides=6):\n",
    "        if type(sides) != int or sides < 1:\n",
    "            raise Exception('sides must be a positive integer.')\n",
    "        self._sides = sides\n",
    "        \n",
    "    def roll(self):\n",
    "        return random.randint(1, self._sides)"
   ]
  },
  {
   "cell_type": "code",
   "execution_count": null,
   "metadata": {
    "collapsed": false
   },
   "outputs": [],
   "source": [
    "die = Die()\n",
    "\n",
    "rolls = []\n",
    "for i in range(100000):\n",
    "    roll = die.roll()\n",
    "    rolls.append(roll)\n",
    "    \n",
    "c = Counter(rolls)\n",
    "c_sorted = sorted(c.items())\n",
    "c_sorted"
   ]
  },
  {
   "cell_type": "markdown",
   "metadata": {},
   "source": [
    "## Tracking its own history"
   ]
  },
  {
   "cell_type": "code",
   "execution_count": null,
   "metadata": {
    "collapsed": false
   },
   "outputs": [],
   "source": [
    "class Die:\n",
    "    def __init__(self, sides=6):\n",
    "        if type(sides) != int or sides < 1:\n",
    "            raise Exception('sides must be a positive integer.')\n",
    "        self._sides = sides\n",
    "        self._rolls = []\n",
    "    \n",
    "    @property\n",
    "    def rolls(self):\n",
    "        return self._rolls\n",
    "        \n",
    "    def roll(self):\n",
    "        roll = random.randint(1, self._sides)\n",
    "        self._rolls.append(roll)\n",
    "        return roll\n",
    "    \n",
    "die = Die()\n",
    "for i in range(100000):\n",
    "    roll = die.roll()\n",
    "    \n",
    "c = Counter(die.rolls)\n",
    "c_sorted = sorted(c.items())\n",
    "c_sorted"
   ]
  },
  {
   "cell_type": "markdown",
   "metadata": {},
   "source": [
    "## Documentation"
   ]
  },
  {
   "cell_type": "code",
   "execution_count": null,
   "metadata": {
    "collapsed": true
   },
   "outputs": [],
   "source": [
    "class Die:\n",
    "    \"A die\"\n",
    "    def __init__(self, sides=6):\n",
    "        \"\"\"Creates a new standard die\n",
    "        \n",
    "        Keyword arguments:\n",
    "        sides (int) -- number of die sides.\n",
    "        \"\"\"\n",
    "        if type(sides) != int or sides < 1:\n",
    "            raise Exception('sides must be a positive integer.')\n",
    "        self._sides = sides\n",
    "        self._rolls = []\n",
    "    \n",
    "    @property\n",
    "    def rolls(self):\n",
    "        \"history of rolls\"\n",
    "        return self._rolls\n",
    "        \n",
    "    def roll(self):\n",
    "        \"Returns a value between 1 and the number of die sides.\"\n",
    "        roll = random.randint(1, self._sides)\n",
    "        self._rolls.append(roll)\n",
    "        return roll"
   ]
  },
  {
   "cell_type": "code",
   "execution_count": null,
   "metadata": {
    "collapsed": false,
    "scrolled": true
   },
   "outputs": [],
   "source": [
    "help(Die)"
   ]
  },
  {
   "cell_type": "markdown",
   "metadata": {},
   "source": [
    "## Inheritance Overriding a Method"
   ]
  },
  {
   "cell_type": "code",
   "execution_count": null,
   "metadata": {
    "collapsed": true
   },
   "outputs": [],
   "source": [
    "class WeightedDie(Die):\n",
    "    \"A weighted die\"\n",
    "    def __init__(self, weights, sides=6):\n",
    "        \"\"\"Creates a new weighted die\n",
    "        \n",
    "        Keyword arguments:\n",
    "        sides (int) -- number of die sides.\n",
    "        weights (list) -- a list of integers holding the weights for each die side\n",
    "        \"\"\"\n",
    "        if not isinstance(weights, list) or len(weights) != sides:\n",
    "            raise Exception('weights must be a list of length {}.'.format(sides))\n",
    "        super().__init__(sides)\n",
    "        self._weights = weights\n",
    "    \n",
    "    def roll(self):\n",
    "        \"\"\"Returns a value between 1 and the number of die sides.\"\"\"\n",
    "        options = []\n",
    "        for i in range(self._sides):\n",
    "            for j in range(self._weights[i]):\n",
    "                options.append(i+1)\n",
    "        roll = random.choice(options)\n",
    "        self._rolls.append(roll)\n",
    "        return roll"
   ]
  },
  {
   "cell_type": "code",
   "execution_count": null,
   "metadata": {
    "collapsed": false,
    "scrolled": true
   },
   "outputs": [],
   "source": [
    "die = WeightedDie(weights=[1,1,1,1,1,5])\n",
    "\n",
    "for i in range(100000):\n",
    "    die.roll()\n",
    "    \n",
    "c = Counter(die.rolls)\n",
    "c_sorted = sorted(c.items())\n",
    "c_sorted"
   ]
  },
  {
   "cell_type": "markdown",
   "metadata": {},
   "source": [
    "## Extending a Method"
   ]
  },
  {
   "cell_type": "code",
   "execution_count": null,
   "metadata": {
    "collapsed": true
   },
   "outputs": [],
   "source": [
    "class WeightingDie(WeightedDie):\n",
    "    \"A weighted die\"\n",
    "    def __init__(self, sides=6):\n",
    "        \"\"\"Creates a die that favors sides it has previously rolled\n",
    "        \n",
    "        Keyword arguments:\n",
    "        sides (int) -- number of die sides.\n",
    "        \"\"\"\n",
    "        self._weights = [1] * sides\n",
    "        super().__init__(self._weights, sides)\n",
    "    \n",
    "    def roll(self):\n",
    "        \"\"\"Returns a value between 1 and the number of die sides.\"\"\"\n",
    "        result = super().roll()\n",
    "        self._weights[result-1] += 1\n",
    "        return result"
   ]
  },
  {
   "cell_type": "code",
   "execution_count": null,
   "metadata": {
    "collapsed": false
   },
   "outputs": [],
   "source": [
    "die = WeightingDie()\n",
    "\n",
    "for i in range(1000):\n",
    "    die.roll()\n",
    "    \n",
    "c = Counter(die.rolls)\n",
    "c_sorted = sorted(c.items())\n",
    "c_sorted, die._weights"
   ]
  },
  {
   "cell_type": "markdown",
   "metadata": {},
   "source": [
    "## Extending a Built-in Class: Adding Functionality"
   ]
  },
  {
   "cell_type": "code",
   "execution_count": null,
   "metadata": {
    "collapsed": false
   },
   "outputs": [],
   "source": [
    "class MyRandom(random.Random):\n",
    "    def weighted_choice(self, d):\n",
    "        \"\"\"Returns a key from dict d based on weighted values of dict items\n",
    "        \n",
    "        Keyword arguments:\n",
    "        d (dict)\n",
    "            -- key is value to return\n",
    "            -- value is weight of key\n",
    "        \"\"\"\n",
    "        if not isinstance(d, dict):\n",
    "            raise Exception('d must be a dict.')\n",
    "        options = []\n",
    "        for k,v in d.items():\n",
    "            options += v * [k]\n",
    "            #print(options)\n",
    "        return random.choice(options)"
   ]
  },
  {
   "cell_type": "code",
   "execution_count": null,
   "metadata": {
    "collapsed": false
   },
   "outputs": [],
   "source": [
    "r = MyRandom()\n",
    "d = {\n",
    "    1: 1,\n",
    "    2: 1,\n",
    "    3: 1,\n",
    "    4: 1,\n",
    "    5: 1,\n",
    "    6: 5   \n",
    "}\n",
    "r.weighted_choice(d)"
   ]
  },
  {
   "cell_type": "markdown",
   "metadata": {},
   "source": [
    "## Possible Exercise\n",
    "Create a new WeightedDie class using the MyRandom class."
   ]
  },
  {
   "cell_type": "code",
   "execution_count": null,
   "metadata": {
    "collapsed": false
   },
   "outputs": [],
   "source": [
    "class WeightedDie():\n",
    "    def __init__(self, weights):\n",
    "        self._weights = weights\n",
    "    \n",
    "    def roll(self):\n",
    "        r = MyRandom()\n",
    "        return r.weighted_choice(self._weights)"
   ]
  },
  {
   "cell_type": "code",
   "execution_count": null,
   "metadata": {
    "collapsed": false
   },
   "outputs": [],
   "source": [
    "die = WeightedDie(d)\n",
    "\n",
    "rolls = []\n",
    "for i in range(100000):\n",
    "    roll = die.roll()\n",
    "    rolls.append(roll)\n",
    "    \n",
    "c = Counter(rolls)\n",
    "c_sorted = sorted(c.items())\n",
    "c_sorted"
   ]
  },
  {
   "cell_type": "markdown",
   "metadata": {},
   "source": [
    "## Properties"
   ]
  },
  {
   "cell_type": "code",
   "execution_count": null,
   "metadata": {
    "collapsed": false
   },
   "outputs": [],
   "source": [
    "class Simulation:\n",
    "    def __init__(self, fnct_to_run, iterations):\n",
    "        self._fnct_to_run = fnct_to_run\n",
    "        self._iterations = iterations\n",
    "        self._results = []\n",
    "        \n",
    "    def run(self):\n",
    "        for i in range(self._iterations):\n",
    "            result = self._fnct_to_run()\n",
    "            self._results.append(result)\n",
    "    \n",
    "    def get_mean(self):\n",
    "        return stats.mean(self._results)\n",
    "    \n",
    "    def get_median(self):\n",
    "        return stats.median(self._results)\n",
    "    \n",
    "    def get_mode(self):\n",
    "        try:\n",
    "            return stats.mode(self._results)\n",
    "        except:\n",
    "            return None\n",
    "    \n",
    "die = Die()\n",
    "sim = Simulation(die.roll, 10)\n",
    "sim.run()\n",
    "sim.get_mean(), sim.get_median(), sim.get_mode()"
   ]
  },
  {
   "cell_type": "code",
   "execution_count": null,
   "metadata": {
    "collapsed": false,
    "scrolled": true
   },
   "outputs": [],
   "source": [
    "class Simulation:\n",
    "    def __init__(self, fnct_to_run, iterations):\n",
    "        self._fnct_to_run = fnct_to_run\n",
    "        self._iterations = iterations\n",
    "        self._results = []\n",
    "        self.run()\n",
    "        \n",
    "    def run(self):\n",
    "        for i in range(self._iterations):\n",
    "            result = self._fnct_to_run()\n",
    "            self._results.append(result)\n",
    "    \n",
    "    @property\n",
    "    def mean(self):\n",
    "        return stats.mean(self._results)\n",
    "    \n",
    "    @property\n",
    "    def median(self):\n",
    "        return stats.median(self._results)\n",
    "    \n",
    "    @property\n",
    "    def mode(self):\n",
    "        try:\n",
    "            return stats.mode(self._results)\n",
    "        except:\n",
    "            return None\n",
    "    \n",
    "die = Die()\n",
    "sim = Simulation(die.roll, 10)\n",
    "sim.mean, sim.median, sim.mode"
   ]
  },
  {
   "cell_type": "code",
   "execution_count": null,
   "metadata": {
    "collapsed": false
   },
   "outputs": [],
   "source": [
    "sim.run()\n",
    "sim.mean, sim.median, sim.mode"
   ]
  }
 ],
 "metadata": {
  "kernelspec": {
   "display_name": "Python 3",
   "language": "python",
   "name": "python3"
  },
  "language_info": {
   "codemirror_mode": {
    "name": "ipython",
    "version": 3
   },
   "file_extension": ".py",
   "mimetype": "text/x-python",
   "name": "python",
   "nbconvert_exporter": "python",
   "pygments_lexer": "ipython3",
   "version": "3.4.3"
  }
 },
 "nbformat": 4,
 "nbformat_minor": 0
}
