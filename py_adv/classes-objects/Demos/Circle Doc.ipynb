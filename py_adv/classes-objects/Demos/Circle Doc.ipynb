{
 "cells": [
  {
   "cell_type": "code",
   "execution_count": null,
   "metadata": {
    "collapsed": true
   },
   "outputs": [],
   "source": [
    "class Circle:\n",
    "    \"A circle\"\n",
    "    def __init__(self, val, prop='r'):\n",
    "        \"\"\"Create a circle based on a radius, diameter, circumference, or area\n",
    "\n",
    "        Keyword arguments:\n",
    "        val (float) -- the value of prop\n",
    "        prop (str)\n",
    "            -- 'r' : radius (default)\n",
    "            -- 'd' : diameter\n",
    "            -- 'c' : circumference\n",
    "            -- 'a' : area\n",
    "        \"\"\"    \n",
    "    @property\n",
    "    def radius(self):\n",
    "        \"radius of the circle object\"\n",
    "        return self._radius\n",
    "    \n",
    "    @radius.setter\n",
    "    def radius(self, r):\n",
    "        \"sets _radius, _diameter, _circumference, and _area of circle object\"\n",
    "    \n",
    "    @property\n",
    "    def diameter(self):\n",
    "        \"diameter (2 x r) of the circle object\"\n",
    "    \n",
    "    @diameter.setter\n",
    "    def diameter(self, d):\n",
    "        \"uses diameter d to set radius, which then updates all related pseudo-private attributes\"\n",
    "    \n",
    "    def resize_by(self, amount):\n",
    "        \"\"\"resizes radius, which then updates all related pseudo-private attributes\n",
    "\n",
    "        Keyword arguments:\n",
    "        amount (float) -- the amount by which to resize the radius\n",
    "                       -- a negative number shrinks the radius\n",
    "        \"\"\""
   ]
  }
 ],
 "metadata": {
  "kernelspec": {
   "display_name": "Python 3",
   "language": "python",
   "name": "python3"
  },
  "language_info": {
   "codemirror_mode": {
    "name": "ipython",
    "version": 3
   },
   "file_extension": ".py",
   "mimetype": "text/x-python",
   "name": "python",
   "nbconvert_exporter": "python",
   "pygments_lexer": "ipython3",
   "version": "3.4.3"
  }
 },
 "nbformat": 4,
 "nbformat_minor": 0
}
