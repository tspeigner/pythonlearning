{
 "cells": [
  {
   "cell_type": "code",
   "execution_count": null,
   "metadata": {
    "collapsed": false,
    "scrolled": true
   },
   "outputs": [],
   "source": [
    "type('Hello'), isinstance('Hello', str)"
   ]
  },
  {
   "cell_type": "code",
   "execution_count": null,
   "metadata": {
    "collapsed": false,
    "scrolled": true
   },
   "outputs": [],
   "source": [
    "type(1), isinstance(1, int)"
   ]
  },
  {
   "cell_type": "code",
   "execution_count": null,
   "metadata": {
    "collapsed": false,
    "scrolled": true
   },
   "outputs": [],
   "source": [
    "type(['a','b','c']), isinstance(['a','b','c'], list)"
   ]
  },
  {
   "cell_type": "code",
   "execution_count": null,
   "metadata": {
    "collapsed": false
   },
   "outputs": [],
   "source": [
    "type((1,2,3)), isinstance((1,2,3), tuple)"
   ]
  },
  {
   "cell_type": "code",
   "execution_count": null,
   "metadata": {
    "collapsed": false,
    "scrolled": true
   },
   "outputs": [],
   "source": [
    "type({'a':1, 'b':2}), isinstance({'a':1, 'b':2}, dict)"
   ]
  },
  {
   "cell_type": "code",
   "execution_count": null,
   "metadata": {
    "collapsed": false,
    "scrolled": true
   },
   "outputs": [],
   "source": [
    "type(print)"
   ]
  },
  {
   "cell_type": "code",
   "execution_count": null,
   "metadata": {
    "collapsed": false
   },
   "outputs": [],
   "source": [
    "age = range(0,100)\n",
    "type(age), type(range)"
   ]
  },
  {
   "cell_type": "code",
   "execution_count": null,
   "metadata": {
    "collapsed": false
   },
   "outputs": [],
   "source": [
    "class Player:\n",
    "    pass\n",
    "\n",
    "serena = Player()\n",
    "\n",
    "type(serena), type(Player), isinstance(serena, Player)"
   ]
  },
  {
   "cell_type": "code",
   "execution_count": null,
   "metadata": {
    "collapsed": false,
    "scrolled": true
   },
   "outputs": [],
   "source": [
    "class Player:\n",
    "    def __init__(self, name):\n",
    "        self.name = name\n",
    "\n",
    "serena = Player('Serena Williams')\n",
    "\n",
    "print('Hello,', serena.name + '!')"
   ]
  },
  {
   "cell_type": "markdown",
   "metadata": {},
   "source": [
    "## Inheritance"
   ]
  },
  {
   "cell_type": "code",
   "execution_count": null,
   "metadata": {
    "collapsed": false
   },
   "outputs": [],
   "source": [
    "class A:\n",
    "    def __init__(self, name):\n",
    "        self.name = name\n",
    "        \n",
    "    def intro(self):\n",
    "        print('Hello, my name is {}.'.format(self.name))\n",
    "    \n",
    "    def outro(self):\n",
    "        print('Goodbye!')\n",
    "\n",
    "class B(A):\n",
    "    def intro(self):\n",
    "        print('Hi, I am {}.'.format(self.name))\n",
    "\n",
    "a = A('George')\n",
    "b = B('Ringo')\n",
    "\n",
    "a.intro()\n",
    "b.intro()\n",
    "a.outro()\n",
    "b.outro()"
   ]
  },
  {
   "cell_type": "code",
   "execution_count": null,
   "metadata": {
    "collapsed": false
   },
   "outputs": [],
   "source": [
    "class MyList(list):\n",
    "    \"A subclass of list with additional functionality\"\n",
    "    def prepend(self, obj):\n",
    "        \"\"\"prepend obj to list\n",
    "        \n",
    "        Keyword arguments:\n",
    "        obj -- obj to prepend\"\"\"\n",
    "        self.insert(0, obj)\n",
    "        \n",
    "mylist = MyList(['a','b','c'])\n",
    "mylist.append('y')\n",
    "mylist.prepend('z')\n",
    "print(mylist)"
   ]
  },
  {
   "cell_type": "code",
   "execution_count": null,
   "metadata": {
    "collapsed": false
   },
   "outputs": [],
   "source": [
    "help(str)"
   ]
  },
  {
   "cell_type": "code",
   "execution_count": null,
   "metadata": {
    "collapsed": true
   },
   "outputs": [],
   "source": [
    "import random\n",
    "\n",
    "class MyRandom(random.Random):\n",
    "    def weighted_choice(self, d):\n",
    "        \"\"\"Returns a key from dict d based on weighted values of dict items\n",
    "        \n",
    "        Keyword arguments:\n",
    "        d (dict)\n",
    "            -- key is value to return\n",
    "            -- value is weight of key\n",
    "        \"\"\"\n",
    "        if not isinstance(d, dict):\n",
    "            raise Exception('d must be a dict.')\n",
    "        options = []\n",
    "        for k,v in d.items():\n",
    "            options += v * [k]\n",
    "            #print(options)\n",
    "        return random.choice(options)"
   ]
  },
  {
   "cell_type": "code",
   "execution_count": null,
   "metadata": {
    "collapsed": false
   },
   "outputs": [],
   "source": [
    "r = MyRandom()\n",
    "d = {\n",
    "    1: 1,\n",
    "    2: 1,\n",
    "    3: 1,\n",
    "    4: 1,\n",
    "    5: 1,\n",
    "    6: 5   \n",
    "}\n",
    "r.weighted_choice(d)"
   ]
  },
  {
   "cell_type": "markdown",
   "metadata": {},
   "source": [
    "## Extending a Class Method"
   ]
  },
  {
   "cell_type": "code",
   "execution_count": null,
   "metadata": {
    "collapsed": false
   },
   "outputs": [],
   "source": [
    "class A:\n",
    "    def __init__(self, name):\n",
    "        self.name = name\n",
    "        \n",
    "    def intro(self):\n",
    "        print('Hello, my name is {}.'.format(self.name))\n",
    "    \n",
    "    def outro(self):\n",
    "        print('Goodbye!')\n",
    "\n",
    "class B(A):\n",
    "    def intro(self):\n",
    "        super().intro()\n",
    "        print('It\\'s very nice to meet you.')\n",
    "\n",
    "a = A('George')\n",
    "b = B('Ringo')\n",
    "\n",
    "a.intro()\n",
    "print('-------')\n",
    "b.intro()\n",
    "print('-------')\n",
    "a.outro()\n",
    "b.outro()"
   ]
  },
  {
   "cell_type": "markdown",
   "metadata": {},
   "source": [
    "## Static Methods"
   ]
  },
  {
   "cell_type": "code",
   "execution_count": null,
   "metadata": {
    "collapsed": false
   },
   "outputs": [],
   "source": [
    "class Triangle:\n",
    "    def __init__(self, sides):\n",
    "        if not self.is_triangle(sides):\n",
    "            raise Exception('Cannot make triangle with those sides.')\n",
    "        self._sides = sides\n",
    "    \n",
    "    @property\n",
    "    def perimeter(self):\n",
    "        return sum(self._sides)\n",
    "    \n",
    "    @property\n",
    "    def area(self):\n",
    "        p = self.perimeter/2\n",
    "        a = self._sides[0]\n",
    "        b = self._sides[1]\n",
    "        c = self._sides[2]\n",
    "        return ( p * (p-a) * (p-b) * (p-c) ) ** .5\n",
    "        \n",
    "    @staticmethod\n",
    "    def is_triangle(sides):\n",
    "        if len(sides) != 3:\n",
    "            return False\n",
    "        sides.sort()\n",
    "        if sides[0] + sides[1] < sides[2]:\n",
    "            return False\n",
    "        return True\n",
    "    \n",
    "good = [3,3,5]\n",
    "bad = [3,3,9]\n",
    "print( Triangle.is_triangle(good) )\n",
    "print( Triangle.is_triangle(bad) )\n",
    "t1 = Triangle(good)\n",
    "print(t1.area)\n",
    "t2 = Triangle(bad)"
   ]
  },
  {
   "cell_type": "markdown",
   "metadata": {},
   "source": [
    "## Class Attributes and Methods"
   ]
  },
  {
   "cell_type": "code",
   "execution_count": null,
   "metadata": {
    "collapsed": false
   },
   "outputs": [],
   "source": [
    "class A:\n",
    "    foo = 1\n",
    "    bar = 1\n",
    "    def __init__(self):\n",
    "        self.foo = 2\n",
    "    \n",
    "a = A()\n",
    "a.foo, A.foo, a.bar, A.bar"
   ]
  },
  {
   "cell_type": "code",
   "execution_count": null,
   "metadata": {
    "collapsed": false
   },
   "outputs": [],
   "source": [
    "class A:\n",
    "    foo = ['a','b','c']\n",
    "    def __init__(self):\n",
    "        self.foo.append('d')\n",
    "    \n",
    "a = A()\n",
    "a.foo, A.foo"
   ]
  },
  {
   "cell_type": "code",
   "execution_count": null,
   "metadata": {
    "collapsed": false
   },
   "outputs": [],
   "source": [
    "class A:\n",
    "    foo = 1\n",
    "    @classmethod\n",
    "    def my_class_method(cls):\n",
    "        cls.foo += 1\n",
    "        return cls.foo\n",
    "\n",
    "x = A.my_class_method()\n",
    "\n",
    "a = A()\n",
    "y = a.my_class_method()\n",
    "\n",
    "x, y"
   ]
  },
  {
   "cell_type": "code",
   "execution_count": null,
   "metadata": {
    "collapsed": false
   },
   "outputs": [],
   "source": [
    "class Plane:\n",
    "    planes = []\n",
    "    def __init__(self):\n",
    "        self._in_air = False\n",
    "        #self.planes.append(self)\n",
    "        type(self).planes.append(self)\n",
    "    \n",
    "    def take_off(self):\n",
    "        self._in_air = True\n",
    "    \n",
    "    def land(self):\n",
    "        self._in_air = False\n",
    "    \n",
    "    @classmethod\n",
    "    def num_planes(cls):\n",
    "        return len(cls.planes)\n",
    "    \n",
    "    @classmethod\n",
    "    def num_planes_in_air(cls):\n",
    "        return len([plane for plane in cls.planes if plane._in_air])\n",
    "\n",
    "p1 = Plane()\n",
    "p2 = Plane()\n",
    "p3 = Plane()\n",
    "p1.take_off()\n",
    "p2.take_off()\n",
    "p1.land()\n",
    "Plane.num_planes(), Plane.num_planes_in_air()"
   ]
  },
  {
   "cell_type": "code",
   "execution_count": null,
   "metadata": {
    "collapsed": false
   },
   "outputs": [],
   "source": [
    "class Jet(Plane):\n",
    "    def __init__(self):\n",
    "        self.planes = []\n",
    "        super().__init__()\n",
    "\n",
    "p4 = Jet()\n",
    "p4.take_off()\n",
    "Plane.num_planes(), Plane.num_planes_in_air()"
   ]
  },
  {
   "cell_type": "markdown",
   "metadata": {},
   "source": [
    "## Abstract Classes Methods"
   ]
  },
  {
   "cell_type": "markdown",
   "metadata": {},
   "source": [
    "This is meant to be an abstract class, but is not noted as such:"
   ]
  },
  {
   "cell_type": "code",
   "execution_count": null,
   "metadata": {
    "collapsed": true
   },
   "outputs": [],
   "source": [
    "class FlyingObject:\n",
    "    flyingobjects = []\n",
    "    def __init__(self):\n",
    "        self._in_air = False\n",
    "        type(self).flyingobjects.append(self)\n",
    "    \n",
    "    def take_off(self):\n",
    "        self._in_air = True\n",
    "    \n",
    "    def land(self):\n",
    "        self._in_air = False\n",
    "    \n",
    "    @classmethod\n",
    "    def num_objects(cls):\n",
    "        return len(cls.flyingobjects)\n",
    "    \n",
    "    @classmethod\n",
    "    def num_objects_in_air(cls):\n",
    "        return len([fo for fo in cls.flyingobjects if fo._in_air])"
   ]
  },
  {
   "cell_type": "markdown",
   "metadata": {},
   "source": [
    "We can create an instance object without error:"
   ]
  },
  {
   "cell_type": "markdown",
   "metadata": {
    "collapsed": false
   },
   "source": [
    "ufo = FlyingObject()\n",
    "FlyingObject.num_objects()"
   ]
  },
  {
   "cell_type": "markdown",
   "metadata": {},
   "source": [
    "Here we create the same class, but by marking just one method as an abstract method, it makes the whole class abstract:"
   ]
  },
  {
   "cell_type": "code",
   "execution_count": null,
   "metadata": {
    "collapsed": true
   },
   "outputs": [],
   "source": [
    "import abc\n",
    "class FlyingObject(metaclass=abc.ABCMeta):\n",
    "    flyingobjects = []\n",
    "    def __init__(self):\n",
    "        self._in_air = False\n",
    "        type(self).flyingobjects.append(self)\n",
    "    \n",
    "    @abc.abstractmethod\n",
    "    def take_off(self):\n",
    "        self._in_air = True\n",
    "    \n",
    "    @abc.abstractmethod\n",
    "    def land(self):\n",
    "        self._in_air = False\n",
    "    \n",
    "    @classmethod\n",
    "    def num_objects(cls):\n",
    "        return len(cls.flyingobjects)\n",
    "    \n",
    "    @classmethod\n",
    "    def num_objects_in_air(cls):\n",
    "        return len([fo for fo in cls.flyingobjects if fo._in_air])"
   ]
  },
  {
   "cell_type": "markdown",
   "metadata": {},
   "source": [
    "And so we get an error when we attempt to create an instance object:"
   ]
  },
  {
   "cell_type": "code",
   "execution_count": null,
   "metadata": {
    "collapsed": false
   },
   "outputs": [],
   "source": [
    "ufo = FlyingObject()"
   ]
  },
  {
   "cell_type": "markdown",
   "metadata": {},
   "source": [
    "Now we attempt to subclass our abstract class without defining the specified abstract method.\n",
    "\n",
    "This results in an error when we try to instantiate a Plane object:"
   ]
  },
  {
   "cell_type": "code",
   "execution_count": null,
   "metadata": {
    "collapsed": false
   },
   "outputs": [],
   "source": [
    "class Plane(FlyingObject):\n",
    "    @property\n",
    "    def pilot_awake(self):\n",
    "        return True\n",
    "    \n",
    "    def take_off(self):\n",
    "        if self.pilot_awake:\n",
    "            super().take_off()\n",
    "\n",
    "plane = Plane()"
   ]
  },
  {
   "cell_type": "markdown",
   "metadata": {},
   "source": [
    "Here we correctly include the abstract methods. And so we can instantiate it:"
   ]
  },
  {
   "cell_type": "code",
   "execution_count": null,
   "metadata": {
    "collapsed": false
   },
   "outputs": [],
   "source": [
    "class Plane(FlyingObject):\n",
    "    @property\n",
    "    def pilot_awake(self):\n",
    "        return True\n",
    "    \n",
    "    @property\n",
    "    def over_land(self):\n",
    "        return True\n",
    "    \n",
    "    def take_off(self):\n",
    "        if self.pilot_awake:\n",
    "            super().take_off()\n",
    "        \n",
    "    def land(self):\n",
    "        if self.over_land:\n",
    "            super().land()\n",
    "\n",
    "plane = Plane()\n",
    "plane.take_off()\n",
    "FlyingObject.num_objects()"
   ]
  },
  {
   "cell_type": "markdown",
   "metadata": {},
   "source": [
    "We can create a Bird class and instantiate that too."
   ]
  },
  {
   "cell_type": "code",
   "execution_count": null,
   "metadata": {
    "collapsed": false
   },
   "outputs": [],
   "source": [
    "class Bird(FlyingObject):\n",
    "    @property\n",
    "    def healthy_wings(self):\n",
    "        return True\n",
    "    \n",
    "    def take_off(self):\n",
    "        if self.healthy_wings:\n",
    "            super().take_off()\n",
    "        \n",
    "    def land(self):\n",
    "        super().land()\n",
    "        \n",
    "bird = Bird()\n",
    "FlyingObject.num_objects(), FlyingObject.num_objects_in_air()"
   ]
  },
  {
   "cell_type": "code",
   "execution_count": null,
   "metadata": {
    "collapsed": false
   },
   "outputs": [],
   "source": [
    "import random\n",
    "random.random()"
   ]
  },
  {
   "cell_type": "code",
   "execution_count": null,
   "metadata": {
    "collapsed": false
   },
   "outputs": [],
   "source": [
    "from random import random\n",
    "random()"
   ]
  }
 ],
 "metadata": {
  "kernelspec": {
   "display_name": "Python 3",
   "language": "python",
   "name": "python3"
  },
  "language_info": {
   "codemirror_mode": {
    "name": "ipython",
    "version": 3
   },
   "file_extension": ".py",
   "mimetype": "text/x-python",
   "name": "python",
   "nbconvert_exporter": "python",
   "pygments_lexer": "ipython3",
   "version": "3.5.4"
  }
 },
 "nbformat": 4,
 "nbformat_minor": 0
}
