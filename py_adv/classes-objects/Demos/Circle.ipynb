{
 "cells": [
  {
   "cell_type": "markdown",
   "metadata": {},
   "source": [
    "# Circle"
   ]
  },
  {
   "cell_type": "markdown",
   "metadata": {},
   "source": [
    "## Simple Circle Class"
   ]
  },
  {
   "cell_type": "code",
   "execution_count": null,
   "metadata": {
    "collapsed": false
   },
   "outputs": [],
   "source": [
    "import math\n",
    "class Circle:\n",
    "    def __init__(self, val, prop='r'):\n",
    "        if prop == 'r':\n",
    "            self.radius = val\n",
    "        elif prop == 'd':\n",
    "            self.radius = val / 2\n",
    "        elif prop == 'c':\n",
    "            self.radius = val / (2 * math.pi)\n",
    "        elif prop == 'a':\n",
    "            self.radius = (val / math.pi) ** .5\n",
    "        else:\n",
    "            raise Exception('prop must be r, d, c, or a')\n",
    "        \n",
    "        self.diameter = self.radius * 2\n",
    "        self.circumference = self.radius * 2 * math.pi\n",
    "        self.area = self.radius ** 2 * math.pi\n",
    "\n",
    "c = Circle(10, 'd')\n",
    "c.radius, c.diameter, c.circumference, c.area"
   ]
  },
  {
   "cell_type": "markdown",
   "metadata": {},
   "source": [
    "## Adding a Method"
   ]
  },
  {
   "cell_type": "code",
   "execution_count": null,
   "metadata": {
    "collapsed": false
   },
   "outputs": [],
   "source": [
    "class Circle:\n",
    "    def __init__(self, val, prop='r'):\n",
    "        if prop == 'r':\n",
    "            self.radius = val\n",
    "        elif prop == 'd':\n",
    "            self.radius = val / 2\n",
    "        elif prop == 'c':\n",
    "            self.radius = val / (2 * math.pi)\n",
    "        elif prop == 'a':\n",
    "            self.radius = (val / math.pi) ** .5\n",
    "        else:\n",
    "            raise Exception('prop must be r, d, c, or a')\n",
    "        \n",
    "        self.diameter = self.radius * 2\n",
    "        self.circumference = self.radius * 2 * math.pi\n",
    "        self.area = self.radius ** 2 * math.pi\n",
    "    \n",
    "    def resize_by(self, amount):\n",
    "        self.radius *= (1 + amount)\n",
    "        self.diameter = self.radius * 2\n",
    "        self.circumference = self.radius * 2 * math.pi\n",
    "        self.area = self.radius ** 2 * math.pi\n",
    "        \n",
    "c = Circle(10, 'd')\n",
    "\n",
    "c.resize_by(.2)\n",
    "print(c.radius, c.diameter, c.circumference, c.area)\n",
    "\n",
    "c.resize_by(-.5)\n",
    "print(c.radius, c.diameter, c.circumference, c.area)"
   ]
  },
  {
   "cell_type": "markdown",
   "metadata": {},
   "source": [
    "## Getters and Setters"
   ]
  },
  {
   "cell_type": "code",
   "execution_count": null,
   "metadata": {
    "collapsed": false,
    "scrolled": true
   },
   "outputs": [],
   "source": [
    "class Circle:\n",
    "    def __init__(self, val, prop='r'):\n",
    "        if prop == 'r':\n",
    "            self.set_radius(val)\n",
    "        elif prop == 'd':\n",
    "            self.set_diameter(val)\n",
    "        elif prop == 'c':\n",
    "            self.set_circumference(val)\n",
    "        elif prop == 'a':\n",
    "            self.set_area(val)\n",
    "        else:\n",
    "            raise Exception('prop must be r, d, c, or a')\n",
    "        \n",
    "    def set_radius(self, r):\n",
    "        self._radius = r\n",
    "        self._diameter = r * 2\n",
    "        self._circumference = r * 2 * math.pi\n",
    "        self._area = r ** 2 * math.pi\n",
    "    \n",
    "    def get_radius(self):\n",
    "        return self._radius\n",
    "        \n",
    "    def set_diameter(self, d):\n",
    "        self.set_radius(d / 2)\n",
    "    \n",
    "    def get_diameter(self):\n",
    "        return self._diameter\n",
    "        \n",
    "    def set_circumference(self, c):\n",
    "        self.set_radius(c / (2 * math.pi))\n",
    "        \n",
    "    def get_circumference(self):\n",
    "        return self._circumference\n",
    "        \n",
    "    def set_area(self, a):\n",
    "        self.set_radius((a / math.pi) ** .5)\n",
    "        \n",
    "    def get_area(self):\n",
    "        return self._area\n",
    "    \n",
    "    def resize_by(self, amount):\n",
    "        r = self._radius * (1 + amount)\n",
    "        self.set_radius(r)\n",
    "        \n",
    "c = Circle(10, 'd')\n",
    "a = c.get_area()\n",
    "print(a)\n",
    "\n",
    "c.set_radius(8)\n",
    "a = c.get_area()\n",
    "print(a)"
   ]
  },
  {
   "cell_type": "markdown",
   "metadata": {},
   "source": [
    "### Changing the Value of \"private\" Attributes"
   ]
  },
  {
   "cell_type": "code",
   "execution_count": null,
   "metadata": {
    "collapsed": false
   },
   "outputs": [],
   "source": [
    "c = Circle(10, 'd')\n",
    "a = c.get_area()\n",
    "print(a)\n",
    "\n",
    "c._radius = 8\n",
    "a = c.get_area()\n",
    "print(a)"
   ]
  },
  {
   "cell_type": "markdown",
   "metadata": {},
   "source": [
    "## Properties"
   ]
  },
  {
   "cell_type": "code",
   "execution_count": null,
   "metadata": {
    "collapsed": false,
    "scrolled": true
   },
   "outputs": [],
   "source": [
    "class Circle:\n",
    "    def __init__(self, val, prop='r'):\n",
    "        self._radius = None\n",
    "        self._diameter = None\n",
    "        self._circumference = None\n",
    "        self._area = None\n",
    "        if prop == 'r':\n",
    "            self.radius = val\n",
    "        elif prop == 'd':\n",
    "            self.diameter = val\n",
    "        elif prop == 'c':\n",
    "            self.circumference = val\n",
    "        elif prop == 'a':\n",
    "            self.area = val\n",
    "        else:\n",
    "            raise Exception('prop must be r, d, c, or a')\n",
    "    \n",
    "    @property\n",
    "    def radius(self):\n",
    "        return self._radius\n",
    "    \n",
    "    @radius.setter\n",
    "    def radius(self, r):\n",
    "        self._radius = r\n",
    "        self._diameter = r * 2\n",
    "        self._circumference = r * 2 * math.pi\n",
    "        self._area = r ** 2 * math.pi\n",
    "    \n",
    "    @property\n",
    "    def diameter(self):\n",
    "        return self._diameter\n",
    "    \n",
    "    @diameter.setter\n",
    "    def diameter(self, d):\n",
    "        self.radius = d / 2\n",
    "    \n",
    "    @property\n",
    "    def circumference(self):\n",
    "        return self._circumference\n",
    "    \n",
    "    @circumference.setter\n",
    "    def circumference(self, c):\n",
    "        self.radius = c / (2 * math.pi)\n",
    "    \n",
    "    @property\n",
    "    def area(self):\n",
    "        return self._area\n",
    "    \n",
    "    @area.setter\n",
    "    def area(self, a):\n",
    "        self.radius = (a / math.pi) ** .5\n",
    "    \n",
    "    def resize_by(self, amount):\n",
    "        self.radius = self.radius * (1 + amount)\n",
    "        \n",
    "c = Circle(10, 'd')\n",
    "a = c.area\n",
    "print(a)\n",
    "\n",
    "c.radius = 8\n",
    "a = c.area\n",
    "print(a)"
   ]
  },
  {
   "cell_type": "code",
   "execution_count": null,
   "metadata": {
    "collapsed": false
   },
   "outputs": [],
   "source": [
    "c = Circle(10, 'd')\n",
    "a = c.area\n",
    "print(a)\n",
    "\n",
    "c._radius = 8\n",
    "a = c.area\n",
    "print(a)"
   ]
  },
  {
   "cell_type": "code",
   "execution_count": null,
   "metadata": {
    "collapsed": false
   },
   "outputs": [],
   "source": [
    "help(Circle)"
   ]
  },
  {
   "cell_type": "code",
   "execution_count": null,
   "metadata": {
    "collapsed": false,
    "scrolled": true
   },
   "outputs": [],
   "source": [
    "class Circle:\n",
    "    \"A circle\"\n",
    "    def __init__(self, val, prop='r'):\n",
    "        \"\"\"Create a circle based on a radius, diameter, circumference, or area\n",
    "\n",
    "        Keyword arguments:\n",
    "        val (float) -- the value of prop\n",
    "        prop (str)\n",
    "            -- 'r' : radius (default)\n",
    "            -- 'd' : diameter\n",
    "            -- 'c' : circumference\n",
    "            -- 'a' : area\n",
    "        \"\"\"\n",
    "        self._radius = None\n",
    "        self._diameter = None\n",
    "        self._circumference = None\n",
    "        self._area = None\n",
    "        if prop == 'r':\n",
    "            self.radius = val\n",
    "        elif prop == 'd':\n",
    "            self.diameter = val\n",
    "        elif prop == 'c':\n",
    "            self.circumference = val\n",
    "        elif prop == 'a':\n",
    "            self.area = val\n",
    "        else:\n",
    "            raise Exception('prop must be r, d, c, or a')\n",
    "    \n",
    "    @property\n",
    "    def radius(self):\n",
    "        'radius of the circle object'\n",
    "        return self._radius\n",
    "    \n",
    "    @radius.setter\n",
    "    def radius(self, r):\n",
    "        \"sets _radius, _diameter, _circumference, and _area of circle object\"\n",
    "        self._radius = r\n",
    "        self._diameter = r * 2\n",
    "        self._circumference = r * 2 * math.pi\n",
    "        self._area = r ** 2 * math.pi\n",
    "    \n",
    "    @property\n",
    "    def diameter(self):\n",
    "        \"diameter (2 x r) of the circle object\"\n",
    "        return self._diameter\n",
    "    \n",
    "    @diameter.setter\n",
    "    def diameter(self, d):\n",
    "        \"uses diameter d to set radius, which then updates all related pseudo-private attributes\"\n",
    "        self.radius = d / 2\n",
    "    \n",
    "    @property\n",
    "    def circumference(self):\n",
    "        \"circumference (PI x d) of the circle object\"\n",
    "        return self._circumference\n",
    "    \n",
    "    @circumference.setter\n",
    "    def circumference(self, c):\n",
    "        \"uses circumference c to set radius, which then updates all related pseudo-private attributes\"\n",
    "        self.radius = c / (2 * math.pi)\n",
    "    \n",
    "    @property\n",
    "    def area(self):\n",
    "        \"area (PI x r²) of the circle object\"\n",
    "        return self._area\n",
    "    \n",
    "    @area.setter\n",
    "    def area(self, a):\n",
    "        \"uses area a to set radius, which then updates all related pseudo-private attributes\"\n",
    "        self.radius = (a / math.pi) ** .5\n",
    "    \n",
    "    def resize_by(self, amount):\n",
    "        \"\"\"resizes radius, which then updates all related pseudo-private attributes\n",
    "\n",
    "        Keyword arguments:\n",
    "        amount (float) -- the amount by which to resize the radius\n",
    "                       -- a negative number shrinks the radius\n",
    "        \"\"\"\n",
    "        self.radius = self.radius * (1 + amount)"
   ]
  },
  {
   "cell_type": "code",
   "execution_count": null,
   "metadata": {
    "collapsed": false,
    "scrolled": false
   },
   "outputs": [],
   "source": [
    "help(Circle)"
   ]
  }
 ],
 "metadata": {
  "kernelspec": {
   "display_name": "Python 3",
   "language": "python",
   "name": "python3"
  },
  "language_info": {
   "codemirror_mode": {
    "name": "ipython",
    "version": 3
   },
   "file_extension": ".py",
   "mimetype": "text/x-python",
   "name": "python",
   "nbconvert_exporter": "python",
   "pygments_lexer": "ipython3",
   "version": "3.4.3"
  }
 },
 "nbformat": 4,
 "nbformat_minor": 0
}
