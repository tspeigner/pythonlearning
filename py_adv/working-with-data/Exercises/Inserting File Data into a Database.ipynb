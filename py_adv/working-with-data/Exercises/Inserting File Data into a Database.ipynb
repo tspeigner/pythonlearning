{
 "cells": [
  {
   "cell_type": "markdown",
   "metadata": {},
   "source": [
    "# Inserting File Data into a Database"
   ]
  },
  {
   "cell_type": "code",
   "execution_count": null,
   "metadata": {
    "collapsed": false,
    "scrolled": true
   },
   "outputs": [],
   "source": [
    "import sqlite3\n",
    "connection = sqlite3.connect(':memory:')\n",
    "\n",
    "create = '''CREATE TABLE states (\n",
    "'state' text,\n",
    "'pop2014' integer,\n",
    "'pop2000' integer\n",
    ")'''\n",
    "\n",
    "insert = 'INSERT INTO states VALUES (?,?,?)'\n",
    "        \n",
    "select = '''SELECT state,\n",
    "CAST( (pop2014*1.0/pop2000) * pop2014 AS INTEGER) pop2028\n",
    "FROM states ORDER BY pop2028 DESC'''"
   ]
  }
 ],
 "metadata": {
  "kernelspec": {
   "display_name": "Python 3",
   "language": "python",
   "name": "python3"
  },
  "language_info": {
   "codemirror_mode": {
    "name": "ipython",
    "version": 3
   },
   "file_extension": ".py",
   "mimetype": "text/x-python",
   "name": "python",
   "nbconvert_exporter": "python",
   "pygments_lexer": "ipython3",
   "version": "3.4.3"
  }
 },
 "nbformat": 4,
 "nbformat_minor": 0
}
