{
 "cells": [
  {
   "cell_type": "markdown",
   "metadata": {},
   "source": [
    "# JSON\n",
    "JSON is formatted like a Python dict object"
   ]
  },
  {
   "cell_type": "code",
   "execution_count": 1,
   "metadata": {},
   "outputs": [
    {
     "name": "stdout",
     "output_type": "stream",
     "text": [
      "The high tomorrow in Chicago will be 47.39.\n"
     ]
    }
   ],
   "source": [
    "weather = {'city': {'coord': {'lat': 41.85, 'lon': -87.6501},\n",
    "          'country': 'US',\n",
    "          'id': 4887398,\n",
    "          'name': 'Chicago'},\n",
    " 'cnt': 2,\n",
    " 'cod': '200',\n",
    " 'list': [{'clouds': {'all': 0},\n",
    "           'dt': 1524236400,\n",
    "           'dt_txt': '2018-04-20 15:00:00',\n",
    "           'main': {'grnd_level': 1024.6,\n",
    "                    'humidity': 82,\n",
    "                    'pressure': 1024.6,\n",
    "                    'sea_level': 1047.8,\n",
    "                    'temp': 47.39,\n",
    "                    'temp_kf': 3.52,\n",
    "                    'temp_max': 47.39,\n",
    "                    'temp_min': 41.04},\n",
    "           'sys': {'pod': 'd'},\n",
    "           'weather': [{'description': 'clear sky',\n",
    "                        'icon': '01d',\n",
    "                        'id': 800,\n",
    "                        'main': 'Clear'}],\n",
    "           'wind': {'deg': 338.001, 'speed': 2.55}},\n",
    "          {'clouds': {'all': 8},\n",
    "           'dt': 1524247200,\n",
    "           'dt_txt': '2018-04-20 18:00:00',\n",
    "           'main': {'grnd_level': 1024.41,\n",
    "                    'humidity': 75,\n",
    "                    'pressure': 1024.41,\n",
    "                    'sea_level': 1047.37,\n",
    "                    'temp': 48.83,\n",
    "                    'temp_kf': 2.64,\n",
    "                    'temp_max': 48.83,\n",
    "                    'temp_min': 44.08},\n",
    "           'sys': {'pod': 'd'},\n",
    "           'weather': [{'description': 'clear sky',\n",
    "                        'icon': '02d',\n",
    "                        'id': 800,\n",
    "                        'main': 'Clear'}],\n",
    "           'wind': {'deg': 59.5004, 'speed': 2.3}}],\n",
    " 'message': 0.006}\n",
    "\n",
    "city_name = weather['city']['name']\n",
    "max_temp_tomorrow = weather['list'][0]['main']['temp_max']\n",
    "\n",
    "print('The high tomorrow in {} will be {}.'.format(city_name,\n",
    "                                                  max_temp_tomorrow))"
   ]
  },
  {
   "cell_type": "markdown",
   "metadata": {},
   "source": [
    "## Getting JSON from a Feed\n",
    "You will need an API key from http://home.openweathermap.org/"
   ]
  },
  {
   "cell_type": "code",
   "execution_count": 3,
   "metadata": {
    "scrolled": true
   },
   "outputs": [
    {
     "name": "stdout",
     "output_type": "stream",
     "text": [
      "http://api.openweathermap.org/data/2.5/forecast/?APPID=abca198b092b0295697beb48914a442c&id=4887398&mode=json&units=imperial&cnt=2\n",
      "--------------------------------------------------\n",
      "The high tomorrow in Chicago will be 81.57.\n",
      "--------------------------------------------------\n",
      "{'city': {'coord': {'lat': 41.85, 'lon': -87.6501},\n",
      "          'country': 'US',\n",
      "          'id': 4887398,\n",
      "          'name': 'Chicago'},\n",
      " 'cnt': 2,\n",
      " 'cod': '200',\n",
      " 'list': [{'clouds': {'all': 0},\n",
      "           'dt': 1533934800,\n",
      "           'dt_txt': '2018-08-10 21:00:00',\n",
      "           'main': {'grnd_level': 1004.73,\n",
      "                    'humidity': 90,\n",
      "                    'pressure': 1004.73,\n",
      "                    'sea_level': 1026.38,\n",
      "                    'temp': 81.57,\n",
      "                    'temp_kf': 3.17,\n",
      "                    'temp_max': 81.57,\n",
      "                    'temp_min': 75.86},\n",
      "           'rain': {},\n",
      "           'sys': {'pod': 'd'},\n",
      "           'weather': [{'description': 'clear sky',\n",
      "                        'icon': '01d',\n",
      "                        'id': 800,\n",
      "                        'main': 'Clear'}],\n",
      "           'wind': {'deg': 23.5003, 'speed': 10.09}},\n",
      "          {'clouds': {'all': 0},\n",
      "           'dt': 1533945600,\n",
      "           'dt_txt': '2018-08-11 00:00:00',\n",
      "           'main': {'grnd_level': 1005,\n",
      "                    'humidity': 89,\n",
      "                    'pressure': 1005,\n",
      "                    'sea_level': 1026.65,\n",
      "                    'temp': 78.82,\n",
      "                    'temp_kf': 2.11,\n",
      "                    'temp_max': 78.82,\n",
      "                    'temp_min': 75.02},\n",
      "           'rain': {},\n",
      "           'sys': {'pod': 'n'},\n",
      "           'weather': [{'description': 'clear sky',\n",
      "                        'icon': '01n',\n",
      "                        'id': 800,\n",
      "                        'main': 'Clear'}],\n",
      "           'wind': {'deg': 19.0036, 'speed': 11.7}}],\n",
      " 'message': 0.0119}\n"
     ]
    }
   ],
   "source": [
    "import requests\n",
    "from pprint import pprint #\"pretty prints\" the data in a human-readable way\n",
    "\n",
    "api_key = 'abca198b092b0295697beb48914a442c'\n",
    "feed = \"http://api.openweathermap.org/data/2.5/forecast/?APPID=\" + api_key\n",
    "params = {'id': 4887398, 'mode': 'json', \n",
    "          'units': 'imperial', 'cnt': 2}\n",
    "r = requests.get(feed, params)\n",
    "weather = r.json()\n",
    "\n",
    "city_name = weather['city']['name']\n",
    "max_temp_tomorrow = weather['list'][0]['main']['temp_max']\n",
    "\n",
    "print(r.url) #prints the URL created using the params\n",
    "print('-' * 50)\n",
    "print('The high tomorrow in {} will be {}.'.format(city_name,\n",
    "                                                  max_temp_tomorrow))\n",
    "print('-' * 50)\n",
    "pprint(weather)"
   ]
  }
 ],
 "metadata": {
  "kernelspec": {
   "display_name": "Python 3",
   "language": "python",
   "name": "python3"
  },
  "language_info": {
   "codemirror_mode": {
    "name": "ipython",
    "version": 3
   },
   "file_extension": ".py",
   "mimetype": "text/x-python",
   "name": "python",
   "nbconvert_exporter": "python",
   "pygments_lexer": "ipython3",
   "version": "3.6.3"
  }
 },
 "nbformat": 4,
 "nbformat_minor": 2
}
