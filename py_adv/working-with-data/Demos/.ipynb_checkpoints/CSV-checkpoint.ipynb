{
 "cells": [
  {
   "cell_type": "markdown",
   "metadata": {},
   "source": [
    "## Reading with reader()"
   ]
  },
  {
   "cell_type": "code",
   "execution_count": null,
   "metadata": {
    "collapsed": false,
    "scrolled": false
   },
   "outputs": [],
   "source": [
    "import csv\n",
    "\n",
    "with open('../csvs/us-population-2010-2014.csv', newline='') as csvfile:\n",
    "    pops = csv.reader(csvfile)        \n",
    "    for i, row in enumerate(pops, 1):\n",
    "        print(', '.join(row))\n",
    "        if i >= 5:\n",
    "            break"
   ]
  },
  {
   "cell_type": "markdown",
   "metadata": {},
   "source": [
    "## Reading with DictReader()"
   ]
  },
  {
   "cell_type": "code",
   "execution_count": null,
   "metadata": {
    "collapsed": false
   },
   "outputs": [],
   "source": [
    "import csv\n",
    "\n",
    "sexes = {'A':'Both', 'M':'Male', 'F':'Female'}\n",
    "\n",
    "with open('../csvs/us-population-2010-2014.csv', newline='') as csvfile:\n",
    "    pops = csv.DictReader(csvfile)\n",
    "    \n",
    "    header = ','.join(pops.fieldnames)\n",
    "    print(header)\n",
    "\n",
    "    print('-' * len(header))\n",
    "        \n",
    "    for row in pops:\n",
    "        sex = sexes[row['SEX']]\n",
    "        print(sex,\n",
    "              row['AGE'],\n",
    "              row['POPESTIMATE2010'],\n",
    "              row['POPESTIMATE2011'],\n",
    "              row['POPESTIMATE2012'],\n",
    "              row['POPESTIMATE2013'],\n",
    "              row['POPESTIMATE2014'])"
   ]
  },
  {
   "cell_type": "markdown",
   "metadata": {},
   "source": [
    "## Finding Data in a CSV File"
   ]
  },
  {
   "cell_type": "code",
   "execution_count": null,
   "metadata": {
    "collapsed": false
   },
   "outputs": [],
   "source": [
    "with open('../csvs/us-population-2010-2014.csv', newline='') as csvfile:\n",
    "    pops = csv.DictReader(csvfile)\n",
    "    \n",
    "    for row in pops:\n",
    "        if (row['AGE'] == '30' and row['SEX'] == 'F'):\n",
    "            population = row['POPESTIMATE2011']\n",
    "            break\n",
    "    else:\n",
    "        population = None\n",
    "\n",
    "population"
   ]
  },
  {
   "cell_type": "markdown",
   "metadata": {},
   "source": [
    "### Calling find_pop() Multiple Times"
   ]
  },
  {
   "cell_type": "code",
   "execution_count": null,
   "metadata": {
    "collapsed": false
   },
   "outputs": [],
   "source": [
    "import csv\n",
    "\n",
    "def find_pop(pops, age, sex, year):\n",
    "    for row in pops:\n",
    "        if (row['AGE'] == str(age) and row['SEX'] == sex):\n",
    "            return row['POPESTIMATE' + str(year)]\n",
    "    return None\n",
    "\n",
    "with open('../csvs/us-population-2010-2014.csv', newline='') as csvfile:\n",
    "    pops = csv.DictReader(csvfile)\n",
    "    pop1 = find_pop(pops, 30, 'F', 2011)\n",
    "    pop2 = find_pop(pops, 30, 'F', 2011)\n",
    "\n",
    "pop1, pop2"
   ]
  },
  {
   "cell_type": "markdown",
   "metadata": {},
   "source": [
    "#### Fix 1: Use csvfile.seek(0)"
   ]
  },
  {
   "cell_type": "code",
   "execution_count": null,
   "metadata": {
    "collapsed": false
   },
   "outputs": [],
   "source": [
    "import csv\n",
    "\n",
    "def find_pop(pops, age, sex, year):\n",
    "    for row in pops:\n",
    "        if (row['AGE'] == str(age) and row['SEX'] == sex):\n",
    "            return row['POPESTIMATE' + str(year)]\n",
    "    return None\n",
    "\n",
    "with open('../csvs/us-population-2010-2014.csv', newline='') as csvfile:\n",
    "    pops = csv.DictReader(csvfile)\n",
    "    pop1 = find_pop(pops, 30, 'F', 2011)\n",
    "    csvfile.seek(0)\n",
    "    pop2 = find_pop(pops, 30, 'F', 2011)\n",
    "\n",
    "pop1, pop2"
   ]
  },
  {
   "cell_type": "markdown",
   "metadata": {},
   "source": [
    "#### Fix 2: Create a List from csv.DictReader"
   ]
  },
  {
   "cell_type": "code",
   "execution_count": null,
   "metadata": {
    "collapsed": false
   },
   "outputs": [],
   "source": [
    "import csv\n",
    "\n",
    "def find_pop(pops, age, sex, year):\n",
    "    for row in pops:\n",
    "        if (row['AGE'] == str(age) and row['SEX'] == sex):\n",
    "            return row['POPESTIMATE' + str(year)]\n",
    "    return None\n",
    "\n",
    "with open('../csvs/us-population-2010-2014.csv', newline='') as csvfile:\n",
    "    pops = list(csv.DictReader(csvfile))\n",
    "\n",
    "pop1 = find_pop(pops, 30, 'F', 2011)\n",
    "pop2 = find_pop(pops, 30, 'F', 2011)\n",
    "\n",
    "pop1, pop2"
   ]
  },
  {
   "cell_type": "markdown",
   "metadata": {},
   "source": [
    "## Writing with writer()"
   ]
  },
  {
   "cell_type": "code",
   "execution_count": null,
   "metadata": {
    "collapsed": false
   },
   "outputs": [],
   "source": [
    "import pymysql, csv\n",
    "connection = pymysql.connect(host='localhost',\n",
    "                             user='webucator',\n",
    "                             password='webuc8',\n",
    "                             database='baseball'\n",
    "                            )\n",
    "query = '''SELECT year(debut) year, avg(weight) weight\n",
    "FROM master\n",
    "WHERE debut is NOT NULL\n",
    "GROUP BY year(debut)\n",
    "ORDER BY year(debut)'''\n",
    "    \n",
    "with connection.cursor() as cursor:\n",
    "    cursor.execute(query)\n",
    "    results = cursor.fetchall()\n",
    "    \n",
    "connection.close()\n",
    "\n",
    "with open('../csvs/mlb-weight-over-time.csv', 'w', newline='') as csvfile:\n",
    "    writer = csv.writer(csvfile)\n",
    "    writer.writerow(['Year', 'Weight'])\n",
    "    writer.writerows(results)"
   ]
  },
  {
   "cell_type": "markdown",
   "metadata": {},
   "source": [
    "## Writing with DictWriter()"
   ]
  },
  {
   "cell_type": "code",
   "execution_count": null,
   "metadata": {
    "collapsed": false
   },
   "outputs": [],
   "source": [
    "import pymysql, csv\n",
    "connection = pymysql.connect(host='localhost',\n",
    "                             user='webucator',\n",
    "                             password='webuc8',\n",
    "                             database='baseball',\n",
    "                             cursorclass=pymysql.cursors.DictCursor\n",
    "                            )\n",
    "query = '''SELECT year(debut) year, avg(weight) weight\n",
    "FROM master\n",
    "WHERE debut is NOT NULL\n",
    "GROUP BY year(debut)\n",
    "ORDER BY year(debut)'''\n",
    "    \n",
    "with connection.cursor() as cursor:\n",
    "    cursor.execute(query)\n",
    "    results = cursor.fetchall()\n",
    "    \n",
    "connection.close()\n",
    "\n",
    "with open('../csvs/mlb-weight-over-time2.csv', 'w', newline='') as csvfile:\n",
    "    fieldnames = results[0].keys()\n",
    "    writer = csv.DictWriter(csvfile, fieldnames=fieldnames)\n",
    "    writer.writeheader()\n",
    "    writer.writerows(results)"
   ]
  },
  {
   "cell_type": "markdown",
   "metadata": {},
   "source": [
    "## Append to a CSV File"
   ]
  },
  {
   "cell_type": "code",
   "execution_count": null,
   "metadata": {
    "collapsed": false
   },
   "outputs": [],
   "source": [
    "with open('../csvs/mlb-weight-over-time.csv', 'a', newline='') as csvfile:\n",
    "    fieldnames = results[0].keys()\n",
    "    writer = csv.writer(csvfile)\n",
    "    writer.writerow([2015,200])"
   ]
  },
  {
   "cell_type": "markdown",
   "metadata": {},
   "source": [
    "Source: Vintage 2014 National Population Datasets\n",
    "\n",
    "https://www.census.gov/popest/data/national/asrh/2014/files/NC-EST2014-AGESEX-RES.csv"
   ]
  }
 ],
 "metadata": {
  "kernelspec": {
   "display_name": "Python 3",
   "language": "python",
   "name": "python3"
  },
  "language_info": {
   "codemirror_mode": {
    "name": "ipython",
    "version": 3
   },
   "file_extension": ".py",
   "mimetype": "text/x-python",
   "name": "python",
   "nbconvert_exporter": "python",
   "pygments_lexer": "ipython3",
   "version": "3.5.3"
  }
 },
 "nbformat": 4,
 "nbformat_minor": 0
}
