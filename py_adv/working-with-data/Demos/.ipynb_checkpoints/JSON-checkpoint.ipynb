{
 "cells": [
  {
   "cell_type": "markdown",
   "metadata": {},
   "source": [
    "# JSON\n",
    "JSON is formatted like a Python dict object"
   ]
  },
  {
   "cell_type": "code",
   "execution_count": null,
   "metadata": {},
   "outputs": [],
   "source": [
    "weather = {'city': {'coord': {'lat': 41.85, 'lon': -87.6501},\n",
    "          'country': 'US',\n",
    "          'id': 4887398,\n",
    "          'name': 'Chicago'},\n",
    " 'cnt': 2,\n",
    " 'cod': '200',\n",
    " 'list': [{'clouds': {'all': 0},\n",
    "           'dt': 1524236400,\n",
    "           'dt_txt': '2018-04-20 15:00:00',\n",
    "           'main': {'grnd_level': 1024.6,\n",
    "                    'humidity': 82,\n",
    "                    'pressure': 1024.6,\n",
    "                    'sea_level': 1047.8,\n",
    "                    'temp': 47.39,\n",
    "                    'temp_kf': 3.52,\n",
    "                    'temp_max': 47.39,\n",
    "                    'temp_min': 41.04},\n",
    "           'sys': {'pod': 'd'},\n",
    "           'weather': [{'description': 'clear sky',\n",
    "                        'icon': '01d',\n",
    "                        'id': 800,\n",
    "                        'main': 'Clear'}],\n",
    "           'wind': {'deg': 338.001, 'speed': 2.55}},\n",
    "          {'clouds': {'all': 8},\n",
    "           'dt': 1524247200,\n",
    "           'dt_txt': '2018-04-20 18:00:00',\n",
    "           'main': {'grnd_level': 1024.41,\n",
    "                    'humidity': 75,\n",
    "                    'pressure': 1024.41,\n",
    "                    'sea_level': 1047.37,\n",
    "                    'temp': 48.83,\n",
    "                    'temp_kf': 2.64,\n",
    "                    'temp_max': 48.83,\n",
    "                    'temp_min': 44.08},\n",
    "           'sys': {'pod': 'd'},\n",
    "           'weather': [{'description': 'clear sky',\n",
    "                        'icon': '02d',\n",
    "                        'id': 800,\n",
    "                        'main': 'Clear'}],\n",
    "           'wind': {'deg': 59.5004, 'speed': 2.3}}],\n",
    " 'message': 0.006}\n",
    "\n",
    "city_name = weather['city']['name']\n",
    "max_temp_tomorrow = weather['list'][0]['main']['temp_max']\n",
    "\n",
    "print('The high tomorrow in {} will be {}.'.format(city_name,\n",
    "                                                  max_temp_tomorrow))"
   ]
  },
  {
   "cell_type": "markdown",
   "metadata": {},
   "source": [
    "## Getting JSON from a Feed\n",
    "You will need an API key from http://home.openweathermap.org/"
   ]
  },
  {
   "cell_type": "code",
   "execution_count": null,
   "metadata": {
    "scrolled": true
   },
   "outputs": [],
   "source": [
    "import requests\n",
    "from pprint import pprint #\"pretty prints\" the data in a human-readable way\n",
    "\n",
    "api_key = 'yourapikey'\n",
    "feed = \"http://api.openweathermap.org/data/2.5/forecast/?APPID=\" + api_key\n",
    "params = {'id': 4887398, 'mode': 'json', \n",
    "          'units': 'imperial', 'cnt': 2}\n",
    "r = requests.get(feed, params)\n",
    "weather = r.json()\n",
    "\n",
    "city_name = weather['city']['name']\n",
    "max_temp_tomorrow = weather['list'][0]['main']['temp_max']\n",
    "\n",
    "print(r.url) #prints the URL created using the params\n",
    "print('-' * 50)\n",
    "print('The high tomorrow in {} will be {}.'.format(city_name,\n",
    "                                                  max_temp_tomorrow))\n",
    "print('-' * 50)\n",
    "pprint(weather)"
   ]
  }
 ],
 "metadata": {
  "kernelspec": {
   "display_name": "Python 3",
   "language": "python",
   "name": "python3"
  },
  "language_info": {
   "codemirror_mode": {
    "name": "ipython",
    "version": 3
   },
   "file_extension": ".py",
   "mimetype": "text/x-python",
   "name": "python",
   "nbconvert_exporter": "python",
   "pygments_lexer": "ipython3",
   "version": "3.6.3"
  }
 },
 "nbformat": 4,
 "nbformat_minor": 1
}
