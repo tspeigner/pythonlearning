{
 "cells": [
  {
   "cell_type": "markdown",
   "metadata": {},
   "source": [
    "## MySQL for Python"
   ]
  },
  {
   "cell_type": "code",
   "execution_count": null,
   "metadata": {
    "scrolled": false
   },
   "outputs": [],
   "source": [
    "# may need to install via conda install mysql-connector-python\n",
    "import mysql.connector\n",
    "\n",
    "connection = mysql.connector.connect(host='MySQLC11.newtekwebhosting.com',\n",
    "                              user='student',\n",
    "                              password='webuc8',\n",
    "                              database='baseball')\n",
    "\n",
    "query = '''SELECT nameFirst, nameLast, weight, year(debut)\n",
    "FROM Master\n",
    "ORDER BY weight DESC\n",
    "LIMIT 5'''\n",
    "\n",
    "cursor = connection.cursor() #pass dictionary=True to return records as dicts\n",
    "cursor.execute(query)\n",
    "results = cursor.fetchall()\n",
    "cursor.close()\n",
    "connection.close()\n",
    "\n",
    "results"
   ]
  },
  {
   "cell_type": "markdown",
   "metadata": {},
   "source": [
    "## PyMySQL"
   ]
  },
  {
   "cell_type": "code",
   "execution_count": null,
   "metadata": {},
   "outputs": [],
   "source": [
    "# may need to install via conda install pymysql\n",
    "import pymysql\n",
    "connection = pymysql.connect(host='MySQLC11.newtekwebhosting.com',\n",
    "                             user='student',\n",
    "                             password='webuc8',\n",
    "                             database='baseball'\n",
    "                            )\n",
    "                        #cursorclass=pymysql.cursors.DictCursor\n",
    "query = '''SELECT nameFirst, nameLast, weight, year(debut)\n",
    "FROM Master\n",
    "ORDER BY weight DESC\n",
    "LIMIT 5'''\n",
    "    \n",
    "with connection.cursor() as cursor:\n",
    "    cursor.execute(query)\n",
    "    results = cursor.fetchall()\n",
    "connection.close()\n",
    "\n",
    "results"
   ]
  },
  {
   "cell_type": "markdown",
   "metadata": {},
   "source": [
    "## sqlite3"
   ]
  },
  {
   "cell_type": "code",
   "execution_count": null,
   "metadata": {
    "scrolled": true
   },
   "outputs": [],
   "source": [
    "import sqlite3\n",
    "connection = sqlite3.connect('../lahman2014.sqlite')\n",
    "\n",
    "query = '''SELECT nameFirst, nameLast, weight, strftime('%Y', debut / 1000, 'unixepoch')\n",
    "FROM master\n",
    "ORDER BY weight DESC\n",
    "LIMIT 5'''\n",
    "\n",
    "cursor = connection.cursor()\n",
    "cursor.execute(query)\n",
    "results = cursor.fetchall()\n",
    "cursor.close()\n",
    "connection.close()\n",
    "\n",
    "results"
   ]
  },
  {
   "cell_type": "markdown",
   "metadata": {},
   "source": [
    "## Passing Parameters"
   ]
  },
  {
   "cell_type": "code",
   "execution_count": null,
   "metadata": {},
   "outputs": [],
   "source": [
    "import sqlite3\n",
    "connection = sqlite3.connect('../lahman2014.sqlite')\n",
    "\n",
    "query = '''SELECT yearID, HR\n",
    "FROM batting\n",
    "WHERE playerID IN (SELECT playerID\n",
    "                    FROM master\n",
    "                    WHERE nameFirst = ? AND nameLast = ?)\n",
    "ORDER BY yearID'''\n",
    "\n",
    "cursor = connection.cursor()\n",
    "player = ( 'Babe', 'Ruth' )\n",
    "cursor.execute(query, player)\n",
    "results = cursor.fetchall()\n",
    "cursor.close()\n",
    "connection.close()\n",
    "\n",
    "results"
   ]
  },
  {
   "cell_type": "markdown",
   "metadata": {},
   "source": [
    "## In-Memory SQLite Tables"
   ]
  },
  {
   "cell_type": "code",
   "execution_count": null,
   "metadata": {},
   "outputs": [],
   "source": [
    "import sqlite3\n",
    "connection = sqlite3.connect(':memory:')\n",
    "cursor = connection.cursor()\n",
    "\n",
    "create = '''CREATE TABLE beatles (\n",
    "'fname' text,\n",
    "'lname' text,\n",
    "'nickname' text\n",
    ")'''\n",
    "\n",
    "cursor.execute(create)\n",
    "\n",
    "members = [\n",
    "    ('John', 'Lennon', 'The Smart One'),\n",
    "    ('Paul', 'McCartney', 'The Cute One'),\n",
    "    ('George', 'Harrison', 'The Funny One'),\n",
    "    ('Ringo', 'Starr', 'The Quiet One')\n",
    "]\n",
    "\n",
    "for member in members:\n",
    "    cursor.execute(\"INSERT INTO beatles VALUES\" + str(member))\n",
    "\n",
    "select = 'SELECT * FROM beatles'\n",
    "cursor.execute(select)\n",
    "\n",
    "results = cursor.fetchall()\n",
    "cursor.close()\n",
    "connection.close()\n",
    "\n",
    "results"
   ]
  },
  {
   "cell_type": "markdown",
   "metadata": {},
   "source": [
    "## Executing Multiple Queries at Once"
   ]
  },
  {
   "cell_type": "code",
   "execution_count": null,
   "metadata": {
    "scrolled": true
   },
   "outputs": [],
   "source": [
    "import sqlite3\n",
    "connection = sqlite3.connect(':memory:')\n",
    "cursor = connection.cursor()\n",
    "\n",
    "create = '''CREATE TABLE beatles (\n",
    "'fname' text,\n",
    "'lname' text,\n",
    "'nickname' text\n",
    ")'''\n",
    "cursor.execute(create)\n",
    "\n",
    "members = [\n",
    "    ('John', 'Lennon', 'The Smart One'),\n",
    "    ('Paul', 'McCartney', 'The Cute One'),\n",
    "    ('George', 'Harrison', 'The Funny One'),\n",
    "    ('Ringo', 'Starr', 'The Quiet One')\n",
    "]\n",
    "\n",
    "insert = 'INSERT INTO beatles VALUES (?,?,?)'\n",
    "\n",
    "cursor.executemany(insert, members)\n",
    "\n",
    "select = 'SELECT * FROM beatles'\n",
    "cursor.execute(select)\n",
    "\n",
    "results = cursor.fetchall()\n",
    "cursor.close()\n",
    "connection.close()\n",
    "\n",
    "results"
   ]
  }
 ],
 "metadata": {
  "kernelspec": {
   "display_name": "Python 3",
   "language": "python",
   "name": "python3"
  },
  "language_info": {
   "codemirror_mode": {
    "name": "ipython",
    "version": 3
   },
   "file_extension": ".py",
   "mimetype": "text/x-python",
   "name": "python",
   "nbconvert_exporter": "python",
   "pygments_lexer": "ipython3",
   "version": "3.6.3"
  }
 },
 "nbformat": 4,
 "nbformat_minor": 2
}
