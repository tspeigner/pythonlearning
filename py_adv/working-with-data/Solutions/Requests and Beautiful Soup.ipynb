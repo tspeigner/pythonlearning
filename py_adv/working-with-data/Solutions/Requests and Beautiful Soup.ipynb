{
 "cells": [
  {
   "cell_type": "markdown",
   "metadata": {},
   "source": [
    "# Requests and Beautiful Soup"
   ]
  },
  {
   "cell_type": "code",
   "execution_count": null,
   "metadata": {
    "collapsed": false
   },
   "outputs": [],
   "source": [
    "import requests\n",
    "from bs4 import BeautifulSoup\n",
    "import re\n",
    "\n",
    "url = 'https://www.senate.gov/general/contact_information/senators_cfm.cfm'\n",
    "headers = {'user-agent': 'my-app/0.0.1'}\n",
    "\n",
    "state = input('Enter a state abbreviation: ')\n",
    "r = requests.get(url, headers=headers, params={'State': state.upper()})\n",
    "content = r.text\n",
    "\n",
    "soup = BeautifulSoup(content, 'html.parser')\n",
    "\n",
    "senators = soup.find_all('a', href = re.compile('senate.gov/?$'))\n",
    "\n",
    "for i, senator in enumerate(senators, 1):\n",
    "    print(i, senator.text.strip())"
   ]
  },
  {
   "cell_type": "markdown",
   "metadata": {},
   "source": [
    "## Challenge"
   ]
  },
  {
   "cell_type": "code",
   "execution_count": null,
   "metadata": {
    "collapsed": false
   },
   "outputs": [],
   "source": [
    "from collections import Counter\n",
    "\n",
    "r = requests.get(url, headers=headers)\n",
    "content = r.text\n",
    "soup = BeautifulSoup(content, 'html.parser')\n",
    "senators = soup.find_all('a', href = re.compile('senate.gov/?$'))\n",
    "\n",
    "firstnames = []\n",
    "for i, link in enumerate(senators, 1):\n",
    "    name = link.text.strip().split(', ')\n",
    "    firstnames.append(name[1])\n",
    "\n",
    "c = Counter(firstnames)\n",
    "c.most_common(3)"
   ]
  }
 ],
 "metadata": {
  "kernelspec": {
   "display_name": "Python 3",
   "language": "python",
   "name": "python3"
  },
  "language_info": {
   "codemirror_mode": {
    "name": "ipython",
    "version": 3
   },
   "file_extension": ".py",
   "mimetype": "text/x-python",
   "name": "python",
   "nbconvert_exporter": "python",
   "pygments_lexer": "ipython3",
   "version": "3.5.3"
  }
 },
 "nbformat": 4,
 "nbformat_minor": 0
}
