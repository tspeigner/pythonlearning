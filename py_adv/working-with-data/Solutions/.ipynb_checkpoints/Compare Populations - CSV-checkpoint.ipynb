{
 "cells": [
  {
   "cell_type": "markdown",
   "metadata": {},
   "source": [
    "# Compare Populations - CSV"
   ]
  },
  {
   "cell_type": "code",
   "execution_count": 1,
   "metadata": {
    "collapsed": false
   },
   "outputs": [
    {
     "name": "stdout",
     "output_type": "stream",
     "text": [
      "(10353, 1.004910053492218)\n"
     ]
    }
   ],
   "source": [
    "import csv\n",
    "\n",
    "def compare_pops(pops, age_sex_year1, age_sex_year2):\n",
    "    '''Finds the populations (pop1 and pop2) for the two \n",
    "    passed-in age, sex, and year tuples.\n",
    "    \n",
    "    Returns a two-item tuple containing:\n",
    "     - the numeric difference in population (pop2 - pop1)\n",
    "     - the ratio (pop2 / pop1)\n",
    "\n",
    "    Keyword arguments:\n",
    "    pops -- a sequence holding dictionaries\n",
    "    age_sex_year1 -- a tuple holding age, sex, and year values\n",
    "    age_sex_year2 -- a tuple holding age, sex, and year values'''\n",
    "    pop1, pop2 = -1, -1\n",
    "    for row in pops:\n",
    "        if (row['AGE'] == str(age_sex_year1[0]) and row['SEX'] == age_sex_year1[1]):\n",
    "            pop1 = row['POPESTIMATE' + str(age_sex_year1[2])]\n",
    "            pop1 = int(pop1.replace(',',''))\n",
    "        if (row['AGE'] == str(age_sex_year2[0]) and row['SEX'] == age_sex_year2[1]):\n",
    "            pop2 = row['POPESTIMATE' + str(age_sex_year2[2])]\n",
    "            pop2 = int(pop2.replace(',',''))\n",
    "        if pop1 > 0 and pop2 > 0:\n",
    "            return (pop2 - pop1, pop2/pop1)\n",
    "\n",
    "with open('../csvs/us-population-2010-2014.csv', newline='') as csvfile:\n",
    "    pops = list(csv.DictReader(csvfile))\n",
    "    \n",
    "pop1 = (30, 'F', 2011)\n",
    "pop2 = (30, 'M', 2011)\n",
    "\n",
    "diff = compare_pops(pops, pop1, pop2)\n",
    "print(diff)"
   ]
  }
 ],
 "metadata": {
  "kernelspec": {
   "display_name": "Python 3",
   "language": "python",
   "name": "python3"
  },
  "language_info": {
   "codemirror_mode": {
    "name": "ipython",
    "version": 3
   },
   "file_extension": ".py",
   "mimetype": "text/x-python",
   "name": "python",
   "nbconvert_exporter": "python",
   "pygments_lexer": "ipython3",
   "version": "3.4.3"
  }
 },
 "nbformat": 4,
 "nbformat_minor": 0
}
