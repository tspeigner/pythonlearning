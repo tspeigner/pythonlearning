{
 "cells": [
  {
   "cell_type": "code",
   "execution_count": null,
   "metadata": {
    "collapsed": true
   },
   "outputs": [],
   "source": [
    "def prepend(s,c):\n",
    "    return c + s\n",
    "\n",
    "def append(s,c):\n",
    "    return s + c\n",
    "\n",
    "def insert(s,c,pos):\n",
    "    return s[0:pos] + c + s[pos:-1] #wrong"
   ]
  },
  {
   "cell_type": "code",
   "execution_count": null,
   "metadata": {
    "collapsed": false
   },
   "outputs": [],
   "source": [
    "import unittest\n",
    "\n",
    "class TestMyMethods(unittest.TestCase):\n",
    "    def test_prepend(self):\n",
    "        self.assertEqual(prepend('bar','foo'), 'foobar')\n",
    "    def test_append(self):\n",
    "        self.assertEqual(append('bar','foo'), 'barfoo')\n",
    "    def test_insert(self):\n",
    "        self.assertEqual(insert('wetor','buca',2), 'webucator')"
   ]
  },
  {
   "cell_type": "code",
   "execution_count": null,
   "metadata": {
    "collapsed": false,
    "scrolled": false
   },
   "outputs": [],
   "source": [
    "suite = unittest.TestLoader().loadTestsFromTestCase(TestMyMethods)\n",
    "unittest.TextTestRunner().run(suite)"
   ]
  }
 ],
 "metadata": {
  "kernelspec": {
   "display_name": "Python 3",
   "language": "python",
   "name": "python3"
  },
  "language_info": {
   "codemirror_mode": {
    "name": "ipython",
    "version": 3
   },
   "file_extension": ".py",
   "mimetype": "text/x-python",
   "name": "python",
   "nbconvert_exporter": "python",
   "pygments_lexer": "ipython3",
   "version": "3.4.3"
  }
 },
 "nbformat": 4,
 "nbformat_minor": 0
}
