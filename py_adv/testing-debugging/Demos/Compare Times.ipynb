{
 "cells": [
  {
   "cell_type": "code",
   "execution_count": null,
   "metadata": {
    "collapsed": false
   },
   "outputs": [],
   "source": [
    "import time\n",
    "\n",
    "t1 = time.perf_counter()\n",
    "t2 = time.perf_counter()\n",
    "t1, t2, t2-t1"
   ]
  },
  {
   "cell_type": "code",
   "execution_count": null,
   "metadata": {
    "collapsed": false,
    "scrolled": true
   },
   "outputs": [],
   "source": [
    "import random\n",
    "\n",
    "start_time = time.perf_counter()\n",
    "numbers = str(random.randint(1,100))\n",
    "for i in range(1000):\n",
    "    num = random.randint(1,100)\n",
    "    numbers += ',' + str(num)\n",
    "end_time = time.perf_counter()\n",
    "td1 = end_time - start_time\n",
    "\n",
    "start_time = time.perf_counter()\n",
    "numbers = [str(random.randint(1,100)) for i in range(1,1000)]\n",
    "numbers = ', '.join(numbers)\n",
    "end_time = time.perf_counter()\n",
    "td2 = end_time - start_time\n",
    "\n",
    "print('''Time Delta 1: {}\n",
    "Time Delta 2: {}'''.format(td1, td2))"
   ]
  },
  {
   "cell_type": "code",
   "execution_count": null,
   "metadata": {
    "collapsed": false
   },
   "outputs": [],
   "source": [
    "import random\n",
    "\n",
    "start_time = time.perf_counter()\n",
    "for j in range(1000):\n",
    "    numbers = str(random.randint(1,100))\n",
    "    for i in range(1000):\n",
    "        num = random.randint(1,100)\n",
    "        numbers += ',' + str(num)\n",
    "end_time = time.perf_counter()\n",
    "td1 = end_time - start_time\n",
    "\n",
    "start_time = time.perf_counter()\n",
    "for j in range(1000):\n",
    "    numbers = [str(random.randint(1,100)) for i in range(1,1000)]\n",
    "    numbers = ', '.join(numbers)\n",
    "end_time = time.perf_counter()\n",
    "td2 = end_time - start_time\n",
    "\n",
    "print('''Time Delta 1: {}\n",
    "Time Delta 2: {}'''.format(td1, td2))"
   ]
  },
  {
   "cell_type": "code",
   "execution_count": null,
   "metadata": {
    "collapsed": false
   },
   "outputs": [],
   "source": [
    "import random\n",
    "from timeit import timeit\n",
    "\n",
    "def string_nums1():\n",
    "    numbers = str(random.randint(1,100))\n",
    "    for i in range(1000):\n",
    "        num = random.randint(1,100)\n",
    "        numbers += ', ' + str(num)\n",
    "    \n",
    "def string_nums2():\n",
    "    numbers = [str(random.randint(1,100)) for i in range(1,1000)]\n",
    "    numbers = ', '.join(numbers)\n",
    "\n",
    "td1 = timeit(string_nums1, number=1000)\n",
    "td2 = timeit(string_nums2, number=1000)\n",
    "\n",
    "td1, td2"
   ]
  },
  {
   "cell_type": "code",
   "execution_count": null,
   "metadata": {
    "collapsed": false
   },
   "outputs": [],
   "source": [
    "import random\n",
    "from timeit import timeit\n",
    "\n",
    "str_nums1 = \"\"\"\n",
    "numbers = str(random.randint(1,100))\n",
    "for i in range(1000):\n",
    "    num = random.randint(1,100)\n",
    "    numbers += ', ' + str(num)\"\"\"\n",
    "    \n",
    "str_nums2 = \"\"\"\n",
    "numbers = [str(random.randint(1,100)) for i in range(1,1000)]\n",
    "numbers = ', '.join(numbers)\"\"\"\n",
    "\n",
    "td1 = timeit(str_nums1, number=1000, globals=globals())\n",
    "td2 = timeit(str_nums2, number=1000, globals=globals())\n",
    "\n",
    "print(td1, td2)"
   ]
  },
  {
   "cell_type": "code",
   "execution_count": null,
   "metadata": {
    "collapsed": false
   },
   "outputs": [],
   "source": [
    "from timeit import timeit\n",
    "\n",
    "str_nums1 = \"\"\"\n",
    "numbers = str(random.randint(1,100))\n",
    "for i in range(1000):\n",
    "    num = random.randint(1,100)\n",
    "    numbers += ', ' + str(num)\"\"\"\n",
    "    \n",
    "str_nums2 = \"\"\"\n",
    "numbers = [str(random.randint(1,100)) for i in range(1,1000)]\n",
    "numbers = ', '.join(numbers)\"\"\"\n",
    "\n",
    "td1 = timeit(str_nums1, number=1000, setup='import random')\n",
    "td2 = timeit(str_nums2, number=1000, setup='import random')\n",
    "\n",
    "td1, td2"
   ]
  },
  {
   "cell_type": "code",
   "execution_count": null,
   "metadata": {
    "collapsed": false,
    "scrolled": true
   },
   "outputs": [],
   "source": [
    "from timeit import repeat\n",
    "\n",
    "string_nums1 = \"\"\"\n",
    "numbers = str(random.randint(1,100))\n",
    "for i in range(1000):\n",
    "    num = random.randint(1,100)\n",
    "    numbers += ', ' + str(num)\"\"\"\n",
    "    \n",
    "string_nums2 = \"\"\"\n",
    "numbers = [str(random.randint(1,100)) for i in range(1,1000)]\n",
    "numbers = ', '.join(numbers)\"\"\"\n",
    "\n",
    "tds1 = repeat(string_nums1, number=1000, repeat=4, setup='import random')\n",
    "tds2 = repeat(string_nums2, number=1000, repeat=4, setup='import random')\n",
    "\n",
    "tds1, tds2"
   ]
  },
  {
   "cell_type": "code",
   "execution_count": null,
   "metadata": {
    "collapsed": false
   },
   "outputs": [],
   "source": [
    "'{:.2%}'.format(1 - sum(tds2) / sum(tds1))"
   ]
  },
  {
   "cell_type": "code",
   "execution_count": null,
   "metadata": {
    "collapsed": false
   },
   "outputs": [],
   "source": [
    "import random\n",
    "\n",
    "def string_nums1():\n",
    "    numbers = str(random.randint(1,100))\n",
    "    for i in range(1000):\n",
    "        num = random.randint(1,100)\n",
    "        numbers += ', ' + str(num)\n",
    "    \n",
    "def string_nums2():\n",
    "    numbers = [str(random.randint(1,100)) for i in range(1,1000)]\n",
    "    numbers = ', '.join(numbers)\n",
    "\n",
    "tr1 = %timeit -n1000 -r4 -o string_nums1()\n",
    "tr2 = %timeit -n1000 -r4 -o string_nums2()"
   ]
  },
  {
   "cell_type": "code",
   "execution_count": null,
   "metadata": {
    "collapsed": false
   },
   "outputs": [],
   "source": [
    "tr1.all_runs"
   ]
  },
  {
   "cell_type": "code",
   "execution_count": null,
   "metadata": {
    "collapsed": false
   },
   "outputs": [],
   "source": [
    "'{:.2%}'.format(1 - sum(tr2.all_runs) / sum(tr1.all_runs) )"
   ]
  },
  {
   "cell_type": "code",
   "execution_count": null,
   "metadata": {
    "collapsed": false
   },
   "outputs": [],
   "source": [
    "%%timeit -n 1000\n",
    "\n",
    "numbers = str(random.randint(1,100))\n",
    "for i in range(1000):\n",
    "    num = random.randint(1,100)\n",
    "    numbers += ', ' + str(num)"
   ]
  },
  {
   "cell_type": "code",
   "execution_count": null,
   "metadata": {
    "collapsed": false
   },
   "outputs": [],
   "source": [
    "%%timeit -n 1000\n",
    "\n",
    "numbers = [str(random.randint(1,100)) for i in range(1,1000)]\n",
    "numbers = ', '.join(numbers)"
   ]
  }
 ],
 "metadata": {
  "kernelspec": {
   "display_name": "Python 3",
   "language": "python",
   "name": "python3"
  },
  "language_info": {
   "codemirror_mode": {
    "name": "ipython",
    "version": 3
   },
   "file_extension": ".py",
   "mimetype": "text/x-python",
   "name": "python",
   "nbconvert_exporter": "python",
   "pygments_lexer": "ipython3",
   "version": "3.4.3"
  }
 },
 "nbformat": 4,
 "nbformat_minor": 0
}
