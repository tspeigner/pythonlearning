{
 "cells": [
  {
   "cell_type": "markdown",
   "metadata": {},
   "source": [
    "# Find File"
   ]
  },
  {
   "cell_type": "markdown",
   "metadata": {},
   "source": [
    "This code helps find notebooks in the current directory that contain certain text.\n",
    "\n",
    "For example, if you remember working with a file that had a variable named \"grades\" in it, you can run the code below and enter \"grades\" in the input to see a list of notebooks and Python files that contain the word \"grades\"."
   ]
  },
  {
   "cell_type": "code",
   "execution_count": 1,
   "metadata": {},
   "outputs": [
    {
     "name": "stdout",
     "output_type": "stream",
     "text": [
      "Search word: random_integers\n",
      "3 matches found.\n",
      "\t1. ./numpy/Demos/Random Sampling.ipynb\n",
      "\t2. ./pandas/Demos/pandas Series.ipynb\n",
      "\t3. ./pandas/Demos/Series.ipynb\n"
     ]
    }
   ],
   "source": [
    "import os\n",
    "\n",
    "searchdir='.'\n",
    "os.chdir(searchdir)\n",
    "\n",
    "word = ''\n",
    "while not word.strip():\n",
    "    word = input('Search word: ')\n",
    "\n",
    "ext_list = ['ipynb','py']\n",
    "exclude_dirs = ['.ipynb_checkpoints']\n",
    "matches = []\n",
    "\n",
    "for dirpath, dirnames, filenames in os.walk('.'):\n",
    "    dirnames[:] = [d for d in dirnames if d not in exclude_dirs]\n",
    "    filtered_filenames = [fname for fname in filenames if fname.split('.')[-1] in ext_list]\n",
    "    \n",
    "    for fname in filtered_filenames:\n",
    "        filepath = dirpath + '/' + fname\n",
    "        try:\n",
    "            with open(filepath) as f:\n",
    "                if word.lower() in f.read().lower():\n",
    "                    matches.append(filepath)\n",
    "        except Exception as e:\n",
    "            print(filepath, e)\n",
    "\n",
    "print('{} matches found.'.format(len(matches)))\n",
    "for i, match in enumerate(matches,1):\n",
    "    print('\\t{}. {}'.format(i, match))"
   ]
  }
 ],
 "metadata": {
  "kernelspec": {
   "display_name": "Python 3",
   "language": "python",
   "name": "python3"
  },
  "language_info": {
   "codemirror_mode": {
    "name": "ipython",
    "version": 3
   },
   "file_extension": ".py",
   "mimetype": "text/x-python",
   "name": "python",
   "nbconvert_exporter": "python",
   "pygments_lexer": "ipython3",
   "version": "3.6.3"
  }
 },
 "nbformat": 4,
 "nbformat_minor": 1
}
