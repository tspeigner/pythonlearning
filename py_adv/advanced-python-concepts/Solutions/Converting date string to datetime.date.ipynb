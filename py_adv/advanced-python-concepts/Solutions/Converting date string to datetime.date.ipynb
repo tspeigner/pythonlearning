{
 "cells": [
  {
   "cell_type": "markdown",
   "metadata": {},
   "source": [
    "# Converting date string to datetime.date"
   ]
  },
  {
   "cell_type": "code",
   "execution_count": null,
   "metadata": {
    "collapsed": false
   },
   "outputs": [],
   "source": [
    "import datetime\n",
    "\n",
    "def str_to_date(str_date):\n",
    "    date_parts = [int(i) for i in str_date.split(\"-\")]\n",
    "    return datetime.date(*date_parts)\n",
    "\n",
    "str_date = input('Input date as YYYY-MM-DD: ')\n",
    "date = str_to_date(str_date)\n",
    "date"
   ]
  }
 ],
 "metadata": {
  "kernelspec": {
   "display_name": "Python 3",
   "language": "python",
   "name": "python3"
  },
  "language_info": {
   "codemirror_mode": {
    "name": "ipython",
    "version": 3
   },
   "file_extension": ".py",
   "mimetype": "text/x-python",
   "name": "python",
   "nbconvert_exporter": "python",
   "pygments_lexer": "ipython3",
   "version": "3.4.3"
  }
 },
 "nbformat": 4,
 "nbformat_minor": 0
}
