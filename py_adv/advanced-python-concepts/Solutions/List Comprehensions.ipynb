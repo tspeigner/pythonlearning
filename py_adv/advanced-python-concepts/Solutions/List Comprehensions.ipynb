{
 "cells": [
  {
   "cell_type": "markdown",
   "metadata": {},
   "source": [
    "# Rolling Five Identical 6-sided Dice"
   ]
  },
  {
   "cell_type": "markdown",
   "metadata": {},
   "source": [
    "## Get Unique Permutations"
   ]
  },
  {
   "cell_type": "code",
   "execution_count": null,
   "metadata": {
    "collapsed": false,
    "scrolled": false,
    "slideshow": {
     "slide_type": "subslide"
    }
   },
   "outputs": [],
   "source": [
    "dice_rolls = [(a,b,c,d,e)\n",
    "              for a in range(1,7)\n",
    "              for b in range(1,7)\n",
    "              for c in range(1,7)\n",
    "              for d in range(1,7)\n",
    "              for e in range(1,7)]\n",
    "dice_rolls"
   ]
  },
  {
   "cell_type": "markdown",
   "metadata": {},
   "source": [
    "## Get Unique Combinations "
   ]
  },
  {
   "cell_type": "code",
   "execution_count": null,
   "metadata": {
    "collapsed": false,
    "slideshow": {
     "slide_type": "subslide"
    }
   },
   "outputs": [],
   "source": [
    "dice_rolls = [(a,b,c,d,e)\n",
    "              for a in range(1,7)\n",
    "              for b in range(a,7)\n",
    "              for c in range(b,7)\n",
    "              for d in range(c,7)\n",
    "              for e in range(d,7)]\n",
    "dice_rolls"
   ]
  }
 ],
 "metadata": {
  "kernelspec": {
   "display_name": "Python 3",
   "language": "python",
   "name": "python3"
  },
  "language_info": {
   "codemirror_mode": {
    "name": "ipython",
    "version": 3
   },
   "file_extension": ".py",
   "mimetype": "text/x-python",
   "name": "python",
   "nbconvert_exporter": "python",
   "pygments_lexer": "ipython3",
   "version": "3.4.3"
  }
 },
 "nbformat": 4,
 "nbformat_minor": 0
}
