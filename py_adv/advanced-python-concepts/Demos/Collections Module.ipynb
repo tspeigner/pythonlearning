{
 "cells": [
  {
   "cell_type": "markdown",
   "metadata": {},
   "source": [
    "# Collections Module"
   ]
  },
  {
   "cell_type": "markdown",
   "metadata": {},
   "source": [
    "## namedtuple()\n",
    "The `namedtuple()` function allows you to give a name to the elements at different positions in a tuple and then refer to them by that name.\n",
    "### First a Regular Tuple"
   ]
  },
  {
   "cell_type": "code",
   "execution_count": 1,
   "metadata": {
    "collapsed": false
   },
   "outputs": [
    {
     "data": {
      "text/plain": [
       "100"
      ]
     },
     "execution_count": 1,
     "metadata": {},
     "output_type": "execute_result"
    }
   ],
   "source": [
    "# set target position:\n",
    "target_pos = (100, 200)\n",
    "\n",
    "# get x value of target position\n",
    "target_pos[0] #100"
   ]
  },
  {
   "cell_type": "code",
   "execution_count": 2,
   "metadata": {
    "collapsed": false
   },
   "outputs": [
    {
     "data": {
      "text/plain": [
       "100"
      ]
     },
     "execution_count": 2,
     "metadata": {},
     "output_type": "execute_result"
    }
   ],
   "source": [
    "from collections import namedtuple\n",
    "\n",
    "Point = namedtuple('point','x, y')\n",
    "\n",
    "# set target position:\n",
    "target_pos = Point(100,200)\n",
    "\n",
    "# get x value of target position\n",
    "target_pos.x"
   ]
  },
  {
   "cell_type": "markdown",
   "metadata": {},
   "source": [
    "## defaultdict"
   ]
  },
  {
   "cell_type": "markdown",
   "metadata": {},
   "source": [
    "If you try to access a key non-existent key in a regular dictionary, you will get a `KeyError`:"
   ]
  },
  {
   "cell_type": "code",
   "execution_count": 3,
   "metadata": {
    "collapsed": false,
    "scrolled": false
   },
   "outputs": [
    {
     "ename": "KeyError",
     "evalue": "'z'",
     "output_type": "error",
     "traceback": [
      "\u001b[1;31m---------------------------------------------------------------------------\u001b[0m",
      "\u001b[1;31mKeyError\u001b[0m                                  Traceback (most recent call last)",
      "\u001b[1;32m<ipython-input-3-3c05d0439282>\u001b[0m in \u001b[0;36m<module>\u001b[1;34m()\u001b[0m\n\u001b[0;32m      1\u001b[0m \u001b[0md\u001b[0m \u001b[1;33m=\u001b[0m \u001b[1;33m{\u001b[0m\u001b[1;33m}\u001b[0m\u001b[1;33m\u001b[0m\u001b[0m\n\u001b[1;32m----> 2\u001b[1;33m \u001b[0md\u001b[0m\u001b[1;33m[\u001b[0m\u001b[1;34m'z'\u001b[0m\u001b[1;33m]\u001b[0m \u001b[1;33m+=\u001b[0m \u001b[1;36m1\u001b[0m\u001b[1;33m\u001b[0m\u001b[0m\n\u001b[0m",
      "\u001b[1;31mKeyError\u001b[0m: 'z'"
     ]
    }
   ],
   "source": [
    "d = {}\n",
    "d['z'] += 1"
   ]
  },
  {
   "cell_type": "markdown",
   "metadata": {},
   "source": [
    "A `defaultdict` is like a regular dictionary except that when you try to look up a key that doesn't exist, it creates the key and assigns it the value returned by a function you specified when creating it."
   ]
  },
  {
   "cell_type": "markdown",
   "metadata": {},
   "source": [
    "### The Task\n",
    "Create a dictionary that shows the number of different ways each number (2 through 12) can be rolled."
   ]
  },
  {
   "cell_type": "code",
   "execution_count": null,
   "metadata": {
    "collapsed": true
   },
   "outputs": [],
   "source": [
    "dice_rolls = [(a,b)\n",
    "              for a in range(1,7)\n",
    "              for b in range(1,7)]\n",
    "dice_rolls"
   ]
  },
  {
   "cell_type": "markdown",
   "metadata": {},
   "source": [
    "### Solution 1: if - else\n",
    "Loop through list checking for existence of each key. If it exists, increment it by 1. If it doesn't, add it and set it to 1."
   ]
  },
  {
   "cell_type": "code",
   "execution_count": null,
   "metadata": {
    "collapsed": false
   },
   "outputs": [],
   "source": [
    "roll_counts = {}\n",
    "for roll in dice_rolls:\n",
    "    if sum(roll) in roll_counts:\n",
    "        roll_counts[sum(roll)] += 1\n",
    "    else:\n",
    "        roll_counts[sum(roll)] = 1\n",
    "        \n",
    "roll_counts"
   ]
  },
  {
   "cell_type": "markdown",
   "metadata": {},
   "source": [
    "### Solution 2: try - except\n",
    "Loop through trying to increment each key. If it fails, this means the key doesn't exists, so add it and set it to 1."
   ]
  },
  {
   "cell_type": "code",
   "execution_count": null,
   "metadata": {
    "collapsed": false
   },
   "outputs": [],
   "source": [
    "roll_counts = {}\n",
    "for roll in dice_rolls:\n",
    "    try:\n",
    "        roll_counts[sum(roll)] += 1\n",
    "    except KeyError:\n",
    "        roll_counts[sum(roll)] = 1\n",
    "        \n",
    "roll_counts"
   ]
  },
  {
   "cell_type": "markdown",
   "metadata": {},
   "source": [
    "### Solution 3: defaultdict"
   ]
  },
  {
   "cell_type": "code",
   "execution_count": null,
   "metadata": {
    "collapsed": false
   },
   "outputs": [],
   "source": [
    "from collections import defaultdict\n",
    "\n",
    "roll_counts = defaultdict(int)\n",
    "for roll in dice_rolls:\n",
    "    roll_counts[sum(roll)] += 1\n",
    "\n",
    "roll_counts"
   ]
  },
  {
   "cell_type": "markdown",
   "metadata": {},
   "source": [
    "Don't be confused by the lack of parentheses following `int`. The `int()` function is being called, but with no arguments. Let's see what happens when we do this:"
   ]
  },
  {
   "cell_type": "code",
   "execution_count": null,
   "metadata": {
    "collapsed": false
   },
   "outputs": [],
   "source": [
    "int()"
   ]
  },
  {
   "cell_type": "markdown",
   "metadata": {},
   "source": [
    "It returns 0, which is what we want. The first time a key is found, it will be assigned 0 and then immediately incremented by 1.\n",
    "\n",
    "Instead of `int`, we could have used `lambda: 0`, but the standard is to use `int`."
   ]
  },
  {
   "cell_type": "code",
   "execution_count": null,
   "metadata": {
    "collapsed": false
   },
   "outputs": [],
   "source": [
    "from collections import defaultdict\n",
    "a = defaultdict(list)\n",
    "print(a['dv'])\n",
    "\n",
    "b = defaultdict(str)\n",
    "print(b['dv'])\n",
    "\n",
    "c = defaultdict(lambda: 5)\n",
    "print(c['dv'])\n",
    "\n",
    "def foo():\n",
    "    return 'bar'\n",
    "d = defaultdict(foo)\n",
    "print(d['dv'])"
   ]
  },
  {
   "cell_type": "markdown",
   "metadata": {},
   "source": [
    "## Counter"
   ]
  },
  {
   "cell_type": "code",
   "execution_count": null,
   "metadata": {
    "collapsed": false
   },
   "outputs": [],
   "source": [
    "from collections import Counter\n",
    "c = Counter(['green','blue','blue','red','yellow','green','blue'])\n",
    "c"
   ]
  },
  {
   "cell_type": "code",
   "execution_count": null,
   "metadata": {
    "collapsed": false
   },
   "outputs": [],
   "source": [
    "dice_rolls = [(a,b)\n",
    "              for a in range(1,7)\n",
    "              for b in range(1,7)]\n",
    "\n",
    "roll_sums = [sum(roll) for roll in dice_rolls]\n",
    "c = Counter(roll_sums)\n",
    "c"
   ]
  },
  {
   "cell_type": "markdown",
   "metadata": {},
   "source": [
    "### dict.update()"
   ]
  },
  {
   "cell_type": "code",
   "execution_count": null,
   "metadata": {
    "collapsed": false
   },
   "outputs": [],
   "source": [
    "grades = {'English':97, 'Math':93, 'Art':74, 'Music':86}\n",
    "grades.update({'Math':97, 'Gym':93})\n",
    "grades"
   ]
  },
  {
   "cell_type": "markdown",
   "metadata": {},
   "source": [
    "### counter.update()"
   ]
  },
  {
   "cell_type": "code",
   "execution_count": null,
   "metadata": {
    "collapsed": false
   },
   "outputs": [],
   "source": [
    "c = Counter(['green','blue','blue','red','yellow','green','blue'])\n",
    "c.update(['red','yellow','yellow','purple'])\n",
    "c"
   ]
  },
  {
   "cell_type": "markdown",
   "metadata": {},
   "source": [
    "### c.subtract()"
   ]
  },
  {
   "cell_type": "code",
   "execution_count": null,
   "metadata": {
    "collapsed": false
   },
   "outputs": [],
   "source": [
    "c = Counter(['green','blue','blue','red','yellow','green','blue'])\n",
    "c.subtract(['red','yellow','yellow','purple'])\n",
    "c"
   ]
  },
  {
   "cell_type": "markdown",
   "metadata": {},
   "source": [
    "### c.elements()"
   ]
  },
  {
   "cell_type": "code",
   "execution_count": null,
   "metadata": {
    "collapsed": false,
    "scrolled": true
   },
   "outputs": [],
   "source": [
    "list(c.elements())"
   ]
  },
  {
   "cell_type": "code",
   "execution_count": null,
   "metadata": {
    "collapsed": false
   },
   "outputs": [],
   "source": [
    "with open('Declaration_of_Independence.txt') as f:\n",
    "    doi = f.read()\n",
    "\n",
    "word_list = [word for word in doi.upper().split() if len(word) > 5]\n",
    "    \n",
    "c = Counter(word_list)\n",
    "c.most_common(10)"
   ]
  }
 ],
 "metadata": {
  "kernelspec": {
   "display_name": "Python 3",
   "language": "python",
   "name": "python3"
  },
  "language_info": {
   "codemirror_mode": {
    "name": "ipython",
    "version": 3
   },
   "file_extension": ".py",
   "mimetype": "text/x-python",
   "name": "python",
   "nbconvert_exporter": "python",
   "pygments_lexer": "ipython3",
   "version": "3.4.3"
  }
 },
 "nbformat": 4,
 "nbformat_minor": 0
}
