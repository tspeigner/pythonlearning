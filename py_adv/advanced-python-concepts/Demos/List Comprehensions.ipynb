{
 "cells": [
  {
   "cell_type": "markdown",
   "metadata": {
    "slideshow": {
     "slide_type": "slide"
    }
   },
   "source": [
    "# Basic List Comprehension\n",
    "A couple basic list comprehension examples."
   ]
  },
  {
   "cell_type": "code",
   "execution_count": null,
   "metadata": {
    "collapsed": false,
    "slideshow": {
     "slide_type": "subslide"
    }
   },
   "outputs": [],
   "source": [
    "words = ['Woodstock', 'Gary', 'Tucker', 'Gopher', 'Spike', 'Ed',\n",
    "         'Faline', 'Willy', 'Rex', 'Rhino', 'Roo', 'Pongo', 'Kaa']\n",
    "three_letter_words = [w for w in words if len(w) == 3]\n",
    "three_letter_words"
   ]
  },
  {
   "cell_type": "code",
   "execution_count": null,
   "metadata": {
    "collapsed": false,
    "slideshow": {
     "slide_type": "subslide"
    }
   },
   "outputs": [],
   "source": [
    "people = ['George Washington', 'John Adams', 'Thomas Jefferson', 'John Quincy Adams']\n",
    "\n",
    "def get_inits(name):\n",
    "    inits=[]\n",
    "    for name_part in name.split():\n",
    "        inits.append(name_part[0])\n",
    "    return '.'.join(inits) + '.'\n",
    "\n",
    "inits = [get_inits(person) for person in people]\n",
    "inits"
   ]
  },
  {
   "cell_type": "markdown",
   "metadata": {
    "slideshow": {
     "slide_type": "slide"
    }
   },
   "source": [
    "# Creating a Matrix with Multiple `for` Loops\n",
    "When using multiple `for` loops in list comprehension, later `for` loops have access to the variables in preceding `for` loops:\n",
    "\n",
    "Here we create a list of tuples, which is like an 2-dimensional array or a matrix.\n",
    "### Rolling two dice to create a list of 2-item tuples"
   ]
  },
  {
   "cell_type": "code",
   "execution_count": null,
   "metadata": {
    "collapsed": false,
    "slideshow": {
     "slide_type": "subslide"
    }
   },
   "outputs": [],
   "source": [
    "dice_rolls = [(a,b)\n",
    "              for a in range(1,7)\n",
    "              for b in range(1,7)]\n",
    "dice_rolls"
   ]
  },
  {
   "cell_type": "markdown",
   "metadata": {
    "slideshow": {
     "slide_type": "subslide"
    }
   },
   "source": [
    "## Rolling two dice without duplicates"
   ]
  },
  {
   "cell_type": "code",
   "execution_count": null,
   "metadata": {
    "collapsed": false,
    "slideshow": {
     "slide_type": "fragment"
    }
   },
   "outputs": [],
   "source": [
    "dice_rolls = [(a,b)\n",
    "              for a in range(1,7)\n",
    "              for b in range(a,7)]\n",
    "dice_rolls"
   ]
  },
  {
   "cell_type": "markdown",
   "metadata": {
    "slideshow": {
     "slide_type": "subslide"
    }
   },
   "source": [
    "The code below shows how to accomplish the same thing without list comprehension:"
   ]
  },
  {
   "cell_type": "code",
   "execution_count": null,
   "metadata": {
    "collapsed": false,
    "slideshow": {
     "slide_type": "fragment"
    }
   },
   "outputs": [],
   "source": [
    "dice_rolls = []\n",
    "for a in range(1,7):\n",
    "    for b in range(a,7):\n",
    "        dice_rolls.append( (a,b) )\n",
    "dice_rolls"
   ]
  }
 ],
 "metadata": {
  "kernelspec": {
   "display_name": "Python 3",
   "language": "python",
   "name": "python3"
  },
  "language_info": {
   "codemirror_mode": {
    "name": "ipython",
    "version": 3
   },
   "file_extension": ".py",
   "mimetype": "text/x-python",
   "name": "python",
   "nbconvert_exporter": "python",
   "pygments_lexer": "ipython3",
   "version": "3.4.3"
  }
 },
 "nbformat": 4,
 "nbformat_minor": 0
}
