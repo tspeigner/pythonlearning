{
 "cells": [
  {
   "cell_type": "code",
   "execution_count": null,
   "metadata": {
    "collapsed": false
   },
   "outputs": [],
   "source": [
    "ww2_leaders = [\n",
    "    ('Charles', 'de Gaulle'),\n",
    "    ('Winston', 'Churchill'),\n",
    "    ('Teddy', 'Roosevelt'), #not a WW2 leader, but helps illustrate the point\n",
    "    ('Franklin', 'Roosevelt'),\n",
    "    ('Joseph', 'Stalin'),\n",
    "    ('Adolph', 'Hitler'),\n",
    "    ('Benito', 'Mussolini'),\n",
    "    ('Hideki', 'Tojo')\n",
    "]\n",
    "\n",
    "ww2_leaders.sort()\n",
    "ww2_leaders"
   ]
  },
  {
   "cell_type": "code",
   "execution_count": null,
   "metadata": {
    "collapsed": false
   },
   "outputs": [],
   "source": [
    "ww2_leaders.sort( key=lambda leader: (leader[1], leader[0]) )\n",
    "ww2_leaders"
   ]
  },
  {
   "cell_type": "code",
   "execution_count": null,
   "metadata": {
    "collapsed": false
   },
   "outputs": [],
   "source": [
    "ww2_leaders.sort( key=lambda leader: (leader[1].lower(), leader[0]) )\n",
    "ww2_leaders"
   ]
  }
 ],
 "metadata": {
  "kernelspec": {
   "display_name": "Python 3",
   "language": "python",
   "name": "python3"
  },
  "language_info": {
   "codemirror_mode": {
    "name": "ipython",
    "version": 3
   },
   "file_extension": ".py",
   "mimetype": "text/x-python",
   "name": "python",
   "nbconvert_exporter": "python",
   "pygments_lexer": "ipython3",
   "version": "3.4.3"
  }
 },
 "nbformat": 4,
 "nbformat_minor": 0
}
