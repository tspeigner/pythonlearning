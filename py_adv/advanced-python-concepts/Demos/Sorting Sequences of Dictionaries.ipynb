{
 "cells": [
  {
   "cell_type": "code",
   "execution_count": null,
   "metadata": {
    "collapsed": true
   },
   "outputs": [],
   "source": [
    "from datetime import date\n",
    "ww2_leaders = []\n",
    "ww2_leaders.append({'fname':'Winston', 'lname':'Churchill', 'dob':date(1889,4,20)})\n",
    "ww2_leaders.append({'fname':'Charles', 'lname':'de Gaulle', 'dob':date(1883,7,29)})\n",
    "ww2_leaders.append({'fname':'Adolph', 'lname':'Hitler', 'dob':date(1890,11,22)})\n",
    "ww2_leaders.append({'fname':'Benito', 'lname':'Mussolini', 'dob':date(1882,1,30)})\n",
    "ww2_leaders.append({'fname':'Franklin', 'lname':'Roosevelt', 'dob':date(1884,12,30)})\n",
    "ww2_leaders.append({'fname':'Joseph', 'lname':'Stalin', 'dob':date(1878,12,18)})\n",
    "ww2_leaders.append({'fname':'Hideki', 'lname':'Tojo', 'dob':date(1874,11,30)})"
   ]
  },
  {
   "cell_type": "code",
   "execution_count": null,
   "metadata": {},
   "outputs": [],
   "source": [
    "ww2_leaders.sort(key=lambda leader: leader['dob'])\n",
    "ww2_leaders"
   ]
  },
  {
   "cell_type": "code",
   "execution_count": null,
   "metadata": {},
   "outputs": [],
   "source": [
    "ww2_leaders.sort(key=lambda leader: (leader['lname'], leader['fname']) )\n",
    "ww2_leaders"
   ]
  },
  {
   "cell_type": "code",
   "execution_count": null,
   "metadata": {},
   "outputs": [],
   "source": [
    "from operator import itemgetter\n",
    "ww2_leaders.sort(key=itemgetter('lname','fname'))\n",
    "ww2_leaders"
   ]
  }
 ],
 "metadata": {
  "kernelspec": {
   "display_name": "Python 3",
   "language": "python",
   "name": "python3"
  },
  "language_info": {
   "codemirror_mode": {
    "name": "ipython",
    "version": 3
   },
   "file_extension": ".py",
   "mimetype": "text/x-python",
   "name": "python",
   "nbconvert_exporter": "python",
   "pygments_lexer": "ipython3",
   "version": "3.6.3"
  }
 },
 "nbformat": 4,
 "nbformat_minor": 1
}
