{
 "cells": [
  {
   "cell_type": "code",
   "execution_count": null,
   "metadata": {
    "collapsed": false,
    "scrolled": true
   },
   "outputs": [],
   "source": [
    "from IPython.display import HTML\n",
    "import numpy as np\n",
    "\n",
    "with open('quiz-numpy.html') as f:\n",
    "    quiz_form = f.read()\n",
    "    \n",
    "def create_num(i):\n",
    "    if i % 2 == 0:\n",
    "        num = i**2 / 2\n",
    "    else:\n",
    "        num = -i**2 / 3\n",
    "    return int(round(num,1) * 10)\n",
    "    \n",
    "nums = [create_num(i) for i in range(120)]\n",
    "ar = np.array(nums)\n",
    "ar = ar.reshape(15,8)\n",
    "HTML(quiz_form)"
   ]
  },
  {
   "cell_type": "markdown",
   "metadata": {},
   "source": [
    "### Setup\n",
    "Run the cell above this to import NumPy and create a NumPy array called `ar`.\n",
    "\n",
    "Write code to answer the questions below and check your answers in the boxes above."
   ]
  },
  {
   "cell_type": "markdown",
   "metadata": {},
   "source": [
    "### Question 1 - 4\n",
    "1. How many elements are in the `ar` array?\n",
    "1. How many dimensions is the `ar` array?\n",
    "1. How many rows are in the `ar` array?\n",
    "1. How many columns are in the `ar` array?"
   ]
  },
  {
   "cell_type": "code",
   "execution_count": null,
   "metadata": {
    "collapsed": false,
    "scrolled": true
   },
   "outputs": [],
   "source": [
    "num_elems = ar.size\n",
    "num_dims = ar.ndim\n",
    "num_rows = np.size(ar,0)\n",
    "num_cols = np.size(ar,1)\n",
    "num_elems, num_dims, num_rows, num_cols"
   ]
  },
  {
   "cell_type": "markdown",
   "metadata": {},
   "source": [
    "### Question 5-6\n",
    "<ol start=\"5\">\n",
    "<li>What is the sum of all the elements in the 4th row?</li>\n",
    "<li>What is the sum of all the elements in the 5th column?</li>\n",
    "</ol>"
   ]
  },
  {
   "cell_type": "code",
   "execution_count": null,
   "metadata": {
    "collapsed": false
   },
   "outputs": [],
   "source": [
    "row4 = ar[3]\n",
    "col5 = ar[:,4]\n",
    "row4.sum(), col5.sum()"
   ]
  },
  {
   "cell_type": "markdown",
   "metadata": {},
   "source": [
    "### Questions 7-8\n",
    "<ol start=\"7\">\n",
    "<li>What is the value in the 4th column of the 5th row?</li>\n",
    "<li>What is highest value in the array?</li>\n",
    "</ol>"
   ]
  },
  {
   "cell_type": "code",
   "execution_count": null,
   "metadata": {
    "collapsed": false
   },
   "outputs": [],
   "source": [
    "ar[4,3], ar.max()"
   ]
  }
 ],
 "metadata": {
  "kernelspec": {
   "display_name": "Python 3",
   "language": "python",
   "name": "python3"
  },
  "language_info": {
   "codemirror_mode": {
    "name": "ipython",
    "version": 3
   },
   "file_extension": ".py",
   "mimetype": "text/x-python",
   "name": "python",
   "nbconvert_exporter": "python",
   "pygments_lexer": "ipython3",
   "version": "3.4.3"
  }
 },
 "nbformat": 4,
 "nbformat_minor": 0
}
