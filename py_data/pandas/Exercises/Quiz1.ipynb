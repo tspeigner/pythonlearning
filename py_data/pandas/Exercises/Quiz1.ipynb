{
 "cells": [
  {
   "cell_type": "code",
   "execution_count": null,
   "metadata": {
    "collapsed": false
   },
   "outputs": [],
   "source": [
    "from IPython.display import HTML\n",
    "import numpy as np\n",
    "import pandas as pd\n",
    "\n",
    "with open('quiz-pandas-series.html') as f:\n",
    "    quiz_form = f.read()\n",
    "\n",
    "pd.set_option('display.max_columns', 10)\n",
    "pd.set_option('display.max_rows', 10)\n",
    "\n",
    "s = pd.read_csv('quiz1-nums.txt', squeeze=True, header=None, dtype=int)\n",
    "s.index = ['AAH','AAL','AAS','ABA','ABS','ABY','ACE','ACT','ADD','ADO','ADS',\n",
    "           'ADZ','AFF','AFT','AGA','AGE','AGO','AHA','AHI','AHS','AID','AIL',\n",
    "           'AIM','AIN','AIR','AIS','AIT','ALA','ALB','ALE','ALL','ALP','ALS',\n",
    "           'ALT','AMA','AMI','AMP','AMU','ANA','AND','ANE','ANI','ANT','ANY',\n",
    "           'APE','APP','APT','ARB','ARC','ARE','ARF','ARK','ARM','ARS','ART',\n",
    "           'ASH','ASK','ASP','ATE','ATT','AUK','AVA','AVE','AVO','AWA','AWE',\n",
    "           'AWL','AWN','AXE','AYE','AYS','AZO','BAA','BAD','BAG','BAH','BAL',\n",
    "           'BAM','BAN','BAP','BAR','BAS','BAT','BAY','BED','BEE','BEG','BEL',\n",
    "           'BEN','BET','BEY','BIB','BID','BIG','BIN','BIO','BIS','BIT','BIZ',\n",
    "           'BOA','BOB','BOD','BOG','BOO','BOP','BOS','BOT','BOW','BOX','BOY',\n",
    "           'BRA','BRO','BRR','BUB','BUD','BUG','BUM','BUN','BUR','BUS']\n",
    "    \n",
    "HTML(quiz_form)"
   ]
  },
  {
   "cell_type": "markdown",
   "metadata": {},
   "source": [
    "### Setup\n",
    "Run the cell above this to import NumPy and pandas and create a pandas Series called `s`.\n",
    "\n",
    "Write code to answer the questions below and check your answers in the boxes that appear above."
   ]
  },
  {
   "cell_type": "markdown",
   "metadata": {
    "collapsed": false
   },
   "source": [
    "### Question 1 - 4\n",
    "1. How many elements are in the `s` Series?\n",
    "1. What is the value of the first element?\n",
    "1. What is the value of the last element?\n",
    "1. What is the value of the 3rd to last element?"
   ]
  },
  {
   "cell_type": "code",
   "execution_count": null,
   "metadata": {
    "collapsed": false
   },
   "outputs": [],
   "source": [
    "#Do your work for questions 1-4 here."
   ]
  },
  {
   "cell_type": "markdown",
   "metadata": {},
   "source": [
    "### Questions 5 - 7\n",
    "<ol start=\"5\">\n",
    "<li>What is the value of the element with label 'ADS'?</li>\n",
    "<li>What is the value of the element with label 'BAA'?</li>\n",
    "<li>What is the index label of the last element?</li>\n",
    "</ol>"
   ]
  },
  {
   "cell_type": "code",
   "execution_count": null,
   "metadata": {
    "collapsed": false
   },
   "outputs": [],
   "source": [
    "#Do your work for questions 5-7 here."
   ]
  },
  {
   "cell_type": "markdown",
   "metadata": {},
   "source": [
    "### Question 8 (this is tricky)\n",
    "<ol start=\"8\">\n",
    "<li>Are there any `NaN` values in the `s` Series? Y or N</li>\n",
    "</ol>"
   ]
  },
  {
   "cell_type": "code",
   "execution_count": null,
   "metadata": {
    "collapsed": false
   },
   "outputs": [],
   "source": [
    "#Do your work for question 8 here."
   ]
  }
 ],
 "metadata": {
  "kernelspec": {
   "display_name": "Python 3",
   "language": "python",
   "name": "python3"
  },
  "language_info": {
   "codemirror_mode": {
    "name": "ipython",
    "version": 3
   },
   "file_extension": ".py",
   "mimetype": "text/x-python",
   "name": "python",
   "nbconvert_exporter": "python",
   "pygments_lexer": "ipython3",
   "version": "3.4.3"
  }
 },
 "nbformat": 4,
 "nbformat_minor": 0
}
