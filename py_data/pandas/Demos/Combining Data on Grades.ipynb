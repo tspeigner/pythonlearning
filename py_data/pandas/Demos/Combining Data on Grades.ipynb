{
 "cells": [
  {
   "cell_type": "markdown",
   "metadata": {},
   "source": [
    "# Combining Data on Grades"
   ]
  },
  {
   "cell_type": "code",
   "execution_count": null,
   "metadata": {
    "collapsed": true
   },
   "outputs": [],
   "source": [
    "import numpy as np\n",
    "import pandas as pd\n",
    "\n",
    "pd.set_option('display.max_columns', 10)\n",
    "pd.set_option('display.max_rows', 10)"
   ]
  },
  {
   "cell_type": "markdown",
   "metadata": {},
   "source": [
    "### Given: Three Numpy Arrays of Grades"
   ]
  },
  {
   "cell_type": "code",
   "execution_count": null,
   "metadata": {
    "collapsed": true
   },
   "outputs": [],
   "source": [
    "np.random.seed(1)\n",
    "ar1 = np.random.choice(['A','B','C','D','F'], 100, p=[.2,.4,.3,.08,.02])\n",
    "ar2 = np.random.choice(['A','B','C','D','F'], 50, p=[.3,.4,.2,.1,0])\n",
    "ar3 = np.random.choice(['a','b','c','d','f'], 200, p=[.15,.45,.25,.13,.02])"
   ]
  },
  {
   "cell_type": "markdown",
   "metadata": {},
   "source": [
    "### Create pandas Series from these Arrays\n",
    "Use the default index for each. Save the series as `s1`, `s2` and `s3`"
   ]
  },
  {
   "cell_type": "code",
   "execution_count": null,
   "metadata": {
    "collapsed": false
   },
   "outputs": [],
   "source": [
    "s1 = pd.Series(ar1)\n",
    "s2 = pd.Series(ar2)\n",
    "s3 = pd.Series(ar3)"
   ]
  },
  {
   "cell_type": "markdown",
   "metadata": {},
   "source": [
    "### Get the Value Counts of each of the Series\n",
    "Save the resulting series as `grades1`, `grades2`, and `grades3`"
   ]
  },
  {
   "cell_type": "code",
   "execution_count": null,
   "metadata": {
    "collapsed": false
   },
   "outputs": [],
   "source": [
    "grades1 = s1.value_counts()\n",
    "grades2 = s2.value_counts()\n",
    "grades3 = s3.value_counts()\n",
    "grades3"
   ]
  },
  {
   "cell_type": "markdown",
   "metadata": {},
   "source": [
    "### Compare the indexes of the three `grades` variables \n",
    "You should see that the index for `grades3` uses lowercase letters, while the other two use uppercase letters."
   ]
  },
  {
   "cell_type": "code",
   "execution_count": null,
   "metadata": {
    "collapsed": false
   },
   "outputs": [],
   "source": [
    "grades1.index, grades2.index, grades3.index"
   ]
  },
  {
   "cell_type": "markdown",
   "metadata": {},
   "source": [
    "### Reindex `grades3` to use uppercase letters\n",
    "This is a little tricky because the index for `grades3` is not in alphabetical order. You will need to sort it on its index first."
   ]
  },
  {
   "cell_type": "code",
   "execution_count": null,
   "metadata": {
    "collapsed": false
   },
   "outputs": [],
   "source": [
    "grades3 = grades3.sort_index()\n",
    "grades3.index = ['A','B','C','D','F']\n",
    "grades3.index"
   ]
  },
  {
   "cell_type": "markdown",
   "metadata": {},
   "source": [
    "### Add the three `grades` Series together\n",
    "Don't forget to set the fill value to 0."
   ]
  },
  {
   "cell_type": "code",
   "execution_count": null,
   "metadata": {
    "collapsed": false
   },
   "outputs": [],
   "source": [
    "grades_all = grades1.add(grades2, fill_value=0).add(grades3, fill_value=0)\n",
    "grades_all"
   ]
  },
  {
   "cell_type": "markdown",
   "metadata": {},
   "source": [
    "### From `grades_all`, create a `grades_breakout` Series that holdes the share of each grade.\n",
    "`grades_breakout.sum()` should equal 1"
   ]
  },
  {
   "cell_type": "code",
   "execution_count": null,
   "metadata": {
    "collapsed": false
   },
   "outputs": [],
   "source": [
    "grades_breakout = grades_all / grades_all.sum()\n",
    "grades_breakout, grades_breakout.sum()"
   ]
  },
  {
   "cell_type": "markdown",
   "metadata": {},
   "source": [
    "## A different approach: First, change case of values of `s3`."
   ]
  },
  {
   "cell_type": "code",
   "execution_count": null,
   "metadata": {
    "collapsed": false
   },
   "outputs": [],
   "source": [
    "s3 = s3.str.upper()\n",
    "s3"
   ]
  },
  {
   "cell_type": "markdown",
   "metadata": {},
   "source": [
    "### Then combine the Series of grades."
   ]
  },
  {
   "cell_type": "code",
   "execution_count": null,
   "metadata": {
    "collapsed": false
   },
   "outputs": [],
   "source": [
    "s_all = pd.concat([s1,s2,s3])\n",
    "s_all"
   ]
  },
  {
   "cell_type": "markdown",
   "metadata": {},
   "source": [
    "### Then get the value counts of the combined series and get `grades_breakout`."
   ]
  },
  {
   "cell_type": "code",
   "execution_count": null,
   "metadata": {
    "collapsed": false
   },
   "outputs": [],
   "source": [
    "grades_all = s_all.value_counts()\n",
    "grades_breakout = grades_all / grades_all.sum()\n",
    "grades_breakout.sort_index(), grades_breakout.sum()"
   ]
  }
 ],
 "metadata": {
  "kernelspec": {
   "display_name": "Python 3",
   "language": "python",
   "name": "python3"
  },
  "language_info": {
   "codemirror_mode": {
    "name": "ipython",
    "version": 3
   },
   "file_extension": ".py",
   "mimetype": "text/x-python",
   "name": "python",
   "nbconvert_exporter": "python",
   "pygments_lexer": "ipython3",
   "version": "3.4.3"
  }
 },
 "nbformat": 4,
 "nbformat_minor": 0
}
