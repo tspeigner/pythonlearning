{
 "cells": [
  {
   "cell_type": "code",
   "execution_count": null,
   "metadata": {
    "collapsed": false,
    "scrolled": true
   },
   "outputs": [],
   "source": [
    "from IPython.display import HTML\n",
    "import numpy as np\n",
    "import pandas as pd\n",
    "\n",
    "with open('quiz-pandas.html') as f:\n",
    "    quiz_form = f.read()\n",
    "\n",
    "pd.set_option('display.max_columns', 10)\n",
    "pd.set_option('display.max_rows', 10)\n",
    "\n",
    "csv ='../csvs/us-population-2010-2014.csv'\n",
    "pops = pd.read_csv(csv, usecols=[0,1,5,6], thousands=',')\n",
    "    \n",
    "HTML(quiz_form)"
   ]
  },
  {
   "cell_type": "markdown",
   "metadata": {},
   "source": [
    "### Setup\n",
    "Run the cell above this to import NumPy and pandas and create a pandas DataFrame called `pops`.\n",
    "\n",
    "Write code to answer the questions below and check your answers in the boxes that appear above."
   ]
  },
  {
   "cell_type": "markdown",
   "metadata": {},
   "source": [
    "### Question 1\n",
    "How many males in their 30s were there in 2013?"
   ]
  },
  {
   "cell_type": "code",
   "execution_count": null,
   "metadata": {
    "collapsed": false
   },
   "outputs": [],
   "source": [
    "men = pops[(pops.SEX == 'M') & (pops.AGE >= 30) & (pops.AGE < 40)]\n",
    "men.POPESTIMATE2013.sum()"
   ]
  },
  {
   "cell_type": "markdown",
   "metadata": {},
   "source": [
    "### Question 2\n",
    "What was the average age of all people in 2014 rounded to the nearest integer?"
   ]
  },
  {
   "cell_type": "code",
   "execution_count": null,
   "metadata": {
    "collapsed": false
   },
   "outputs": [],
   "source": [
    "age_by_pop = pops.AGE * pops.POPESTIMATE2014\n",
    "total_years = age_by_pop.sum()\n",
    "total_pop = pops.POPESTIMATE2014.sum()\n",
    "avg_age = total_years / total_pop\n",
    "total_years, total_pop, round(avg_age)"
   ]
  },
  {
   "cell_type": "markdown",
   "metadata": {},
   "source": [
    "### Problem 1\n",
    "Write a check to make sure that there are no age groups in which the number of females plus the number of males does not add up to the total number of people that age in 2014."
   ]
  },
  {
   "cell_type": "code",
   "execution_count": null,
   "metadata": {
    "collapsed": false
   },
   "outputs": [],
   "source": [
    "males = pops[pops.SEX == 'M'].POPESTIMATE2014\n",
    "females = pops[pops.SEX == 'F'].POPESTIMATE2014\n",
    "people = pops[pops.SEX == 'A'].POPESTIMATE2014\n",
    "\n",
    "#Make sure Series are alignable\n",
    "males.index = np.arange(0,len(males))\n",
    "females.index = np.arange(0,len(females))\n",
    "people.index = np.arange(0,len(people))\n",
    "\n",
    "people[males + females != people]"
   ]
  },
  {
   "cell_type": "markdown",
   "metadata": {},
   "source": [
    "### Problem 2\n",
    "Create a pop2014 DataFrame with three columns: Males, Females, All"
   ]
  },
  {
   "cell_type": "code",
   "execution_count": null,
   "metadata": {
    "collapsed": false
   },
   "outputs": [],
   "source": [
    "males = pops[pops.SEX == 'M'].POPESTIMATE2014\n",
    "females = pops[pops.SEX == 'F'].POPESTIMATE2014\n",
    "\n",
    "#Make sure Series are alignable\n",
    "males.index = np.arange(0,len(males))\n",
    "females.index = np.arange(0,len(females))\n",
    "\n",
    "pop2014 = pd.concat([males, females], axis=1)\n",
    "pop2014.columns = ['Males','Females']\n",
    "pop2014['All'] = pop2014.Males + pop2014.Females\n",
    "pop2014"
   ]
  }
 ],
 "metadata": {
  "kernelspec": {
   "display_name": "Python 3",
   "language": "python",
   "name": "python3"
  },
  "language_info": {
   "codemirror_mode": {
    "name": "ipython",
    "version": 3
   },
   "file_extension": ".py",
   "mimetype": "text/x-python",
   "name": "python",
   "nbconvert_exporter": "python",
   "pygments_lexer": "ipython3",
   "version": "3.4.3"
  }
 },
 "nbformat": 4,
 "nbformat_minor": 0
}
