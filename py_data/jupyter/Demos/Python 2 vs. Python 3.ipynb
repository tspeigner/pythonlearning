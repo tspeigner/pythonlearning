{
 "cells": [
  {
   "cell_type": "markdown",
   "metadata": {},
   "source": [
    "# Python 2 vs. Python 3\n",
    "Differences between Python 2 and Python 3\n",
    " - We use **`%%script py -2`** to run Python 2 as a subprocess"
   ]
  },
  {
   "cell_type": "markdown",
   "metadata": {},
   "source": [
    "## print vs. print()"
   ]
  },
  {
   "cell_type": "markdown",
   "metadata": {},
   "source": [
    "### Python 2\n",
    "**print** is a statement"
   ]
  },
  {
   "cell_type": "code",
   "execution_count": 1,
   "metadata": {
    "collapsed": false
   },
   "outputs": [
    {
     "name": "stdout",
     "output_type": "stream",
     "text": [
      "Hello, world!\r\n"
     ]
    }
   ],
   "source": [
    "%%script py -2\n",
    "print 'Hello, world!'"
   ]
  },
  {
   "cell_type": "markdown",
   "metadata": {},
   "source": [
    "### Python 3\n",
    "**print()** is a function"
   ]
  },
  {
   "cell_type": "code",
   "execution_count": 2,
   "metadata": {
    "collapsed": false
   },
   "outputs": [
    {
     "name": "stdout",
     "output_type": "stream",
     "text": [
      "Hello, world!\n"
     ]
    }
   ],
   "source": [
    "print('Hello, world!')"
   ]
  },
  {
   "cell_type": "markdown",
   "metadata": {},
   "source": [
    "## Integer Division"
   ]
  },
  {
   "cell_type": "markdown",
   "metadata": {},
   "source": [
    "### Python 2\n",
    "Division of integers returns integer"
   ]
  },
  {
   "cell_type": "code",
   "execution_count": 3,
   "metadata": {
    "collapsed": false
   },
   "outputs": [
    {
     "name": "stdout",
     "output_type": "stream",
     "text": [
      "2\r\n",
      "2\r\n"
     ]
    }
   ],
   "source": [
    "%%script py -2\n",
    "print 5/2\n",
    "print 4/2"
   ]
  },
  {
   "cell_type": "markdown",
   "metadata": {},
   "source": [
    "### Python 3\n",
    "Division of integers always returns a float"
   ]
  },
  {
   "cell_type": "code",
   "execution_count": 4,
   "metadata": {
    "collapsed": false
   },
   "outputs": [
    {
     "name": "stdout",
     "output_type": "stream",
     "text": [
      "2.5\n",
      "2.0\n"
     ]
    }
   ],
   "source": [
    "print(5/2)\n",
    "print(4/2)"
   ]
  },
  {
   "cell_type": "markdown",
   "metadata": {},
   "source": [
    "You can use a double slash to trucate the value after the decimal point and return an integer. Note that this works in Python 2 as well."
   ]
  },
  {
   "cell_type": "code",
   "execution_count": 5,
   "metadata": {
    "collapsed": false
   },
   "outputs": [
    {
     "name": "stdout",
     "output_type": "stream",
     "text": [
      "2\n"
     ]
    }
   ],
   "source": [
    "print(5//2)"
   ]
  },
  {
   "cell_type": "markdown",
   "metadata": {},
   "source": [
    "## xrange() and range()"
   ]
  },
  {
   "cell_type": "markdown",
   "metadata": {},
   "source": [
    "### Python 2\n",
    "Python 2 has two very similar functions: `xrange()` and `range()`\n",
    " - `xrange()` - returns an `xrange` object, which is similar to a generator\n",
    " - `range()` - returns a list\n",
    " \n",
    "They are used the same way. `xrange()` uses less memory and is generally faster, but `range()` has the advantage of working in Python 3 (see below)."
   ]
  },
  {
   "cell_type": "code",
   "execution_count": 6,
   "metadata": {
    "collapsed": false
   },
   "outputs": [
    {
     "name": "stdout",
     "output_type": "stream",
     "text": [
      "1.70753162026\r\n",
      "2.25823624447\r\n"
     ]
    }
   ],
   "source": [
    "%%script py -2\n",
    "from timeit import timeit\n",
    "r = 100\n",
    "def test_xrange():\n",
    "    for i in xrange(r):\n",
    "        pass\n",
    "\n",
    "def test_range():\n",
    "    for i in range(r):\n",
    "        pass\n",
    "    \n",
    "testx = timeit(test_xrange)\n",
    "testr = timeit(test_range)\n",
    "print testx\n",
    "print testr"
   ]
  },
  {
   "cell_type": "markdown",
   "metadata": {},
   "source": [
    "### Python 3\n",
    "`xrange()` has been removed from Python 3 and `range()` has been changed to work like `xrange()` did in Python 2.\n",
    "\n",
    "Note that, as should be expected, Python 3's `range()` function is about as efficient as Python 2's `xrange()` function."
   ]
  },
  {
   "cell_type": "code",
   "execution_count": 7,
   "metadata": {
    "collapsed": false
   },
   "outputs": [
    {
     "name": "stdout",
     "output_type": "stream",
     "text": [
      "1.6317708141375509\n"
     ]
    }
   ],
   "source": [
    "from timeit import timeit\n",
    "r = 100\n",
    "\n",
    "def test_range():\n",
    "    for i in range(r):\n",
    "        pass\n",
    "\n",
    "testr = timeit(test_range)\n",
    "print(testr)"
   ]
  },
  {
   "cell_type": "markdown",
   "metadata": {},
   "source": [
    "## Dictionary Views"
   ]
  },
  {
   "cell_type": "markdown",
   "metadata": {},
   "source": [
    "### Python 2\n",
    "In Python 2, the `keys()`, `values()`, and `items()` methods of dictionary objects return lists.\n",
    "\n",
    "Python 2 also includes `viewkeys()`, `viewvalues()`, and `viewitems()` methods, which return dictionary views."
   ]
  },
  {
   "cell_type": "code",
   "execution_count": 8,
   "metadata": {
    "collapsed": false
   },
   "outputs": [
    {
     "name": "stdout",
     "output_type": "stream",
     "text": [
      "[74, 93, 97]\r\n",
      "dict_values([74, 93, 97])\r\n"
     ]
    }
   ],
   "source": [
    "%%script py -2\n",
    "grades = {'Eng':97, 'Math': 93, 'Art': 74}\n",
    "print grades.values() #Returns list\n",
    "print grades.viewvalues() #Returns view"
   ]
  },
  {
   "cell_type": "markdown",
   "metadata": {},
   "source": [
    "### Python 3\n",
    "In Python 3, the `viewkeys()`, `viewvalues()`, and `viewitems()` methods have been deprecated and the `keys()`, `values()`, and `items()` methods return dictionary views."
   ]
  },
  {
   "cell_type": "code",
   "execution_count": 9,
   "metadata": {
    "collapsed": false,
    "scrolled": true
   },
   "outputs": [
    {
     "name": "stdout",
     "output_type": "stream",
     "text": [
      "dict_values([93, 97, 74])\n"
     ]
    }
   ],
   "source": [
    "grades = {'Eng':97, 'Math': 93, 'Art': 74}\n",
    "print(grades.values()) #Returns view"
   ]
  },
  {
   "cell_type": "markdown",
   "metadata": {},
   "source": [
    "## map() and filter()"
   ]
  },
  {
   "cell_type": "markdown",
   "metadata": {},
   "source": [
    "### Python 2\n",
    "In Python 2, the `map()` and `filter()` functions return lists."
   ]
  },
  {
   "cell_type": "code",
   "execution_count": 10,
   "metadata": {
    "collapsed": false
   },
   "outputs": [
    {
     "name": "stdout",
     "output_type": "stream",
     "text": [
      "[0, 1, 0, 1, 0]\r\n",
      "[1, 3]\r\n"
     ]
    }
   ],
   "source": [
    "%%script py -2\n",
    "def is_odd(num):\n",
    "    return num % 2\n",
    "\n",
    "results_m = map(is_odd, xrange(5))\n",
    "results_f = filter(is_odd, xrange(5))\n",
    "\n",
    "print results_m\n",
    "print results_f"
   ]
  },
  {
   "cell_type": "markdown",
   "metadata": {},
   "source": [
    "### Python 3\n",
    "In Python 3, the `map()` and `filter()` functions return special iterator objects."
   ]
  },
  {
   "cell_type": "code",
   "execution_count": 11,
   "metadata": {
    "collapsed": false
   },
   "outputs": [
    {
     "name": "stdout",
     "output_type": "stream",
     "text": [
      "<map object at 0x0000000006048FD0>\n",
      "<filter object at 0x0000000006048F98>\n"
     ]
    }
   ],
   "source": [
    "def is_odd(num):\n",
    "    return num % 2\n",
    "\n",
    "results_m = map(is_odd, range(5))\n",
    "results_f = filter(is_odd, range(5))\n",
    "\n",
    "print(results_m)\n",
    "print(results_f)"
   ]
  },
  {
   "cell_type": "markdown",
   "metadata": {},
   "source": [
    "If you need a list, use the `list()` function:"
   ]
  },
  {
   "cell_type": "code",
   "execution_count": 12,
   "metadata": {
    "collapsed": false
   },
   "outputs": [
    {
     "name": "stdout",
     "output_type": "stream",
     "text": [
      "[0, 1, 0, 1, 0]\n",
      "[1, 3]\n"
     ]
    }
   ],
   "source": [
    "print(list(results_m))\n",
    "print(list(results_f))"
   ]
  },
  {
   "cell_type": "markdown",
   "metadata": {},
   "source": [
    "## Handling of Multiple Iterators in `map()`"
   ]
  },
  {
   "cell_type": "markdown",
   "metadata": {},
   "source": [
    "### Python 2\n",
    "In Python 2, if multiple iterators of different lengths were passed into `map()`, it padded the shorter iterators with `None` values up to the length of the longest iterator."
   ]
  },
  {
   "cell_type": "code",
   "execution_count": 13,
   "metadata": {
    "collapsed": false
   },
   "outputs": [
    {
     "name": "stdout",
     "output_type": "stream",
     "text": [
      "[3, 7, 11, 15, 'Fail!']\r\n"
     ]
    }
   ],
   "source": [
    "%%script py -2\n",
    "def sum_them(a, b):\n",
    "    try:\n",
    "        return a + b\n",
    "    except:\n",
    "        return 'Fail!'\n",
    "\n",
    "nums1 = [1,3,5,7,9]\n",
    "nums2 = [2,4,6,8]\n",
    "\n",
    "results = map(sum_them, nums1, nums2)\n",
    "print results"
   ]
  },
  {
   "cell_type": "markdown",
   "metadata": {},
   "source": [
    "### Python 3\n",
    "In Python 3, `map()` will stop when it reaches the end of the shortest sequence."
   ]
  },
  {
   "cell_type": "code",
   "execution_count": 14,
   "metadata": {
    "collapsed": false
   },
   "outputs": [
    {
     "name": "stdout",
     "output_type": "stream",
     "text": [
      "[3, 7, 11, 15]\n"
     ]
    }
   ],
   "source": [
    "def sum_them(a, b):\n",
    "    try:\n",
    "        return a + b\n",
    "    except:\n",
    "        return 'Fail!'\n",
    "\n",
    "nums1 = [1,3,5,7,9]\n",
    "nums2 = [2,4,6,8]\n",
    "\n",
    "results = map(sum_them, nums1, nums2)\n",
    "print(list(results))"
   ]
  },
  {
   "cell_type": "markdown",
   "metadata": {},
   "source": [
    "## zip()"
   ]
  },
  {
   "cell_type": "markdown",
   "metadata": {},
   "source": [
    "### Python 2\n",
    "The `zip()` function returns a list."
   ]
  },
  {
   "cell_type": "code",
   "execution_count": 15,
   "metadata": {
    "collapsed": false
   },
   "outputs": [
    {
     "name": "stdout",
     "output_type": "stream",
     "text": [
      "[(1, 4), (2, 5), (3, 6)]\r\n"
     ]
    }
   ],
   "source": [
    "%%script py -2\n",
    "results = zip([1,2,3],[4,5,6])\n",
    "print results"
   ]
  },
  {
   "cell_type": "markdown",
   "metadata": {},
   "source": [
    "### Python 3\n",
    "The `zip()` function returns a special iterator object."
   ]
  },
  {
   "cell_type": "code",
   "execution_count": 16,
   "metadata": {
    "collapsed": false
   },
   "outputs": [
    {
     "name": "stdout",
     "output_type": "stream",
     "text": [
      "<zip object at 0x000000000605BF88>\n"
     ]
    }
   ],
   "source": [
    "results = zip([1,2,3],[4,5,6])\n",
    "print(results)"
   ]
  },
  {
   "cell_type": "markdown",
   "metadata": {},
   "source": [
    "If you need a list, use the `list()` function:"
   ]
  },
  {
   "cell_type": "code",
   "execution_count": 17,
   "metadata": {
    "collapsed": false,
    "scrolled": true
   },
   "outputs": [
    {
     "name": "stdout",
     "output_type": "stream",
     "text": [
      "[(1, 4), (2, 5), (3, 6)]\n"
     ]
    }
   ],
   "source": [
    "print(list(results))"
   ]
  },
  {
   "cell_type": "markdown",
   "metadata": {},
   "source": [
    "## Lambda Functions"
   ]
  },
  {
   "cell_type": "markdown",
   "metadata": {},
   "source": [
    "### Python 2\n",
    "Lambda functions can take a tuple and read each element within it individually."
   ]
  },
  {
   "cell_type": "code",
   "execution_count": 18,
   "metadata": {
    "collapsed": false
   },
   "outputs": [
    {
     "name": "stdout",
     "output_type": "stream",
     "text": [
      "3\r\n"
     ]
    }
   ],
   "source": [
    "%%script py -2\n",
    "\n",
    "f = lambda (a,b): a + b\n",
    "x = f( (1,2) )\n",
    "print x"
   ]
  },
  {
   "cell_type": "markdown",
   "metadata": {},
   "source": [
    "### Python 3\n",
    "Lambda functions can take a tuple, but they must read each element by its index."
   ]
  },
  {
   "cell_type": "code",
   "execution_count": 19,
   "metadata": {
    "collapsed": false
   },
   "outputs": [
    {
     "name": "stdout",
     "output_type": "stream",
     "text": [
      "3\n"
     ]
    }
   ],
   "source": [
    "f = lambda nums: nums[0] + nums[1]\n",
    "x = f( (1,2) )\n",
    "print(x)"
   ]
  },
  {
   "cell_type": "markdown",
   "metadata": {},
   "source": [
    "## Additional Changes\n",
    "See additional changes at https://docs.python.org/3/whatsnew/3.0.html."
   ]
  }
 ],
 "metadata": {
  "kernelspec": {
   "display_name": "Python 3",
   "language": "python",
   "name": "python3"
  },
  "language_info": {
   "codemirror_mode": {
    "name": "ipython",
    "version": 3
   },
   "file_extension": ".py",
   "mimetype": "text/x-python",
   "name": "python",
   "nbconvert_exporter": "python",
   "pygments_lexer": "ipython3",
   "version": "3.4.3"
  }
 },
 "nbformat": 4,
 "nbformat_minor": 0
}
