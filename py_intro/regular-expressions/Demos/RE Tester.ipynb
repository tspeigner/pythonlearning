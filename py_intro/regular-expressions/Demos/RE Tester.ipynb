{
 "cells": [
  {
   "cell_type": "code",
   "execution_count": null,
   "metadata": {
    "collapsed": false,
    "scrolled": true
   },
   "outputs": [],
   "source": [
    "from IPython.display import HTML\n",
    "import re\n",
    "\n",
    "text=''\n",
    "flags = {\n",
    "    \"ignorecase\" : True,\n",
    "    \"locale\" : False,\n",
    "    \"multiline\" : True,\n",
    "    \"dotall\" : False,\n",
    "    \"verbose\" : False,\n",
    "    \"ascii\" : False\n",
    "}\n",
    "p = None\n",
    "\n",
    "def highlight():\n",
    "    global p\n",
    "    reflags = '|'.join(['re.' + flag.upper() for flag in flags if flags[flag]])\n",
    "    if reflags:\n",
    "        p = re.compile(pattern, eval(reflags))\n",
    "    else:\n",
    "        p = re.compile(pattern)\n",
    "        \n",
    "    matches = p.finditer(text)\n",
    "    return_text = text\n",
    "    \n",
    "    for match in reversed(list(matches)):\n",
    "        begin = match.span()[0]\n",
    "        end = match.span()[1]\n",
    "        return_text = return_text[:end] + '</span>' + return_text[end:]\n",
    "        return_text = return_text[:begin] + '<span class=\"match\">' + return_text[begin:]\n",
    "\n",
    "    return_text = return_text.replace('\\n','<br>')\n",
    "    return return_text\n",
    "\n",
    "def groups():\n",
    "    global p\n",
    "    matches = p.finditer(text)\n",
    "    \n",
    "    return_text = ''\n",
    "    for match in matches:\n",
    "        return_text += '<li class=\"strong\">0: ' + match.group(0) + '</li>'\n",
    "        for i, group in enumerate(match.groups(),1):\n",
    "            return_text += '<li>' + str(i) + ': ' + group + '</li>'\n",
    "    \n",
    "    return return_text\n",
    "    \n",
    "with open('re.html') as f:\n",
    "    input_form = f.read()\n",
    "\n",
    "HTML(input_form)"
   ]
  }
 ],
 "metadata": {
  "kernelspec": {
   "display_name": "Python 3",
   "language": "python",
   "name": "python3"
  },
  "language_info": {
   "codemirror_mode": {
    "name": "ipython",
    "version": 3
   },
   "file_extension": ".py",
   "mimetype": "text/x-python",
   "name": "python",
   "nbconvert_exporter": "python",
   "pygments_lexer": "ipython3",
   "version": "3.4.3"
  }
 },
 "nbformat": 4,
 "nbformat_minor": 0
}
