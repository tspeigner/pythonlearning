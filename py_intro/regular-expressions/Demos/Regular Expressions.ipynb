{
 "cells": [
  {
   "cell_type": "markdown",
   "metadata": {},
   "source": [
    "## Getting Started"
   ]
  },
  {
   "cell_type": "code",
   "execution_count": null,
   "metadata": {
    "collapsed": true
   },
   "outputs": [],
   "source": [
    "import re"
   ]
  },
  {
   "cell_type": "code",
   "execution_count": null,
   "metadata": {
    "collapsed": false
   },
   "outputs": [],
   "source": [
    "p = re.compile(r'r[aeiou]se')\n",
    "result = p.search('A rose is a rose is a rose.')\n",
    "print(result)"
   ]
  },
  {
   "cell_type": "markdown",
   "metadata": {},
   "source": [
    "## Module-level Method"
   ]
  },
  {
   "cell_type": "code",
   "execution_count": null,
   "metadata": {
    "collapsed": false
   },
   "outputs": [],
   "source": [
    "re.search(r'r[aeiou]se', 'A rose is a rose is a rose.')"
   ]
  },
  {
   "cell_type": "markdown",
   "metadata": {},
   "source": [
    "## Raw String Notation"
   ]
  },
  {
   "cell_type": "code",
   "execution_count": null,
   "metadata": {
    "collapsed": false
   },
   "outputs": [],
   "source": [
    "print('a\\nb\\nc')\n",
    "print('a\\\\nb\\\\nc')\n",
    "print(r'a\\nb\\nc')"
   ]
  },
  {
   "cell_type": "code",
   "execution_count": null,
   "metadata": {
    "collapsed": false
   },
   "outputs": [],
   "source": [
    "cooked = re.search('\\babc\\b','''abc''')\n",
    "cookedandprepped = re.search('\\\\babc\\\\b','''abc''')\n",
    "raw = re.search(r'\\babc\\b','''abc''')\n",
    "print(cooked, cookedandprepped, raw, sep='\\n')"
   ]
  },
  {
   "cell_type": "markdown",
   "metadata": {},
   "source": [
    "## Splitting on a Pattern"
   ]
  },
  {
   "cell_type": "code",
   "execution_count": null,
   "metadata": {
    "collapsed": false
   },
   "outputs": [],
   "source": [
    "p = re.compile(r'\\W')\n",
    "p.split('andré@example.com')"
   ]
  },
  {
   "cell_type": "markdown",
   "metadata": {},
   "source": [
    "## Flags"
   ]
  },
  {
   "cell_type": "markdown",
   "metadata": {},
   "source": [
    "#### re.IGNORECASE"
   ]
  },
  {
   "cell_type": "code",
   "execution_count": null,
   "metadata": {
    "collapsed": false
   },
   "outputs": [],
   "source": [
    "p = re.compile('Foo',re.IGNORECASE)\n",
    "p.findall('foobar')"
   ]
  },
  {
   "cell_type": "markdown",
   "metadata": {},
   "source": [
    "#### re.MULTILINE"
   ]
  },
  {
   "cell_type": "code",
   "execution_count": null,
   "metadata": {
    "collapsed": false
   },
   "outputs": [],
   "source": [
    "emails = '''andre@example.com\n",
    "andré@example.com'''\n",
    "matches1 = re.findall(r'^\\w+@\\w+\\.\\w+$', emails)\n",
    "matches2 = re.findall(r'^\\w+@\\w+\\.\\w+$', emails, re.MULTILINE)\n",
    "print(matches1, matches2, sep=\"\\n\")"
   ]
  },
  {
   "cell_type": "markdown",
   "metadata": {},
   "source": [
    "#### re.DOTALL"
   ]
  },
  {
   "cell_type": "code",
   "execution_count": null,
   "metadata": {
    "collapsed": false
   },
   "outputs": [],
   "source": [
    "emails = '''andre@example.com\n",
    "andré@example.com'''\n",
    "matches1 = re.findall(r'm.a', emails)\n",
    "matches2 = re.findall(r'm.a', emails, re.DOTALL)\n",
    "print(matches1, matches2, sep=\"\\n\")"
   ]
  },
  {
   "cell_type": "markdown",
   "metadata": {},
   "source": [
    "#### re.ASCII"
   ]
  },
  {
   "cell_type": "code",
   "execution_count": null,
   "metadata": {
    "collapsed": false
   },
   "outputs": [],
   "source": [
    "p = re.compile(r'\\w+@\\w+\\.\\w+',re.ASCII)\n",
    "match1 = p.findall('andre@example.com')\n",
    "match2 = p.findall('andré@example.com')\n",
    "print(match1, match2, sep=\"\\n\")"
   ]
  },
  {
   "cell_type": "markdown",
   "metadata": {},
   "source": [
    "#### re.VERBOSE"
   ]
  },
  {
   "cell_type": "code",
   "execution_count": null,
   "metadata": {
    "collapsed": false
   },
   "outputs": [],
   "source": [
    "pattern = r'''^     #start here\n",
    "            \\w+    #text before the @ symbol\n",
    "            @      #@ symbol\n",
    "            \\w+    #text between the @ and .\n",
    "            \\.     #literal dot\n",
    "            \\w+    #text after .\n",
    "            $      #end here'''\n",
    "emails = '''andre@example.com\n",
    "andré@example.com'''\n",
    "re.findall(pattern, emails, re.VERBOSE|re.MULTILINE)"
   ]
  },
  {
   "cell_type": "markdown",
   "metadata": {},
   "source": [
    "#### re.DEBUG"
   ]
  },
  {
   "cell_type": "code",
   "execution_count": null,
   "metadata": {
    "collapsed": false,
    "scrolled": true
   },
   "outputs": [],
   "source": [
    "p = re.compile(r'\\b(https?:\\/\\/)?([\\da-z\\.-]+)\\.([a-z\\.]{2,6})([\\/\\w\\.-]*)*\\/?\\b',re.DEBUG)"
   ]
  },
  {
   "cell_type": "markdown",
   "metadata": {},
   "source": [
    "## Groups"
   ]
  },
  {
   "cell_type": "code",
   "execution_count": null,
   "metadata": {
    "collapsed": false
   },
   "outputs": [],
   "source": [
    "p = re.compile(r'(\\w+)@(\\w+\\.(\\w+))')\n",
    "match = p.match('andre@example.com')\n",
    "email = match.group(0)\n",
    "handle = match.group(1)\n",
    "domain = match.group(2)\n",
    "domain_type = match.group(3)\n",
    "print(email, handle, domain, domain_type, sep='\\n')\n",
    "\n",
    "print(match.groups())"
   ]
  },
  {
   "cell_type": "code",
   "execution_count": null,
   "metadata": {
    "collapsed": false
   },
   "outputs": [],
   "source": [
    "p = re.compile(r'(?P<handle>\\w+)@(?P<domain>\\w+\\.(?P<domain_type>\\w+))')\n",
    "match = p.match('andre@example.com')\n",
    "email = match.group(0)\n",
    "handle = match.group('handle')\n",
    "domain = match.group('domain')\n",
    "domain_type = match.group('domain_type')\n",
    "print(email, handle, domain, domain_type, sep='\\n')"
   ]
  },
  {
   "cell_type": "markdown",
   "metadata": {},
   "source": [
    "## sub() with Function"
   ]
  },
  {
   "cell_type": "code",
   "execution_count": null,
   "metadata": {
    "collapsed": false
   },
   "outputs": [],
   "source": [
    "import random\n",
    "def clean_cuss(match):\n",
    "    cuss = match.group(0)\n",
    "    l = len(cuss)\n",
    "    s = '!@#$%^&*'\n",
    "    while l > len(s):\n",
    "        s += s\n",
    "    return ''.join(random.sample(s,l))\n",
    "\n",
    "p = re.compile(r'\\b[a-z]*(stupid|stinky|darn|shucks|crud|slob)[a-z]*\\b', re.IGNORECASE|re.MULTILINE)\n",
    "s = '''Shucks! What a cruddy day I\\'ve had. I spent the whole darn day \\\n",
    "with my slobbiest friend darning his stinky socks.'''\n",
    "result = p.sub(clean_cuss,s)\n",
    "result"
   ]
  }
 ],
 "metadata": {
  "kernelspec": {
   "display_name": "Python 3",
   "language": "python",
   "name": "python3"
  },
  "language_info": {
   "codemirror_mode": {
    "name": "ipython",
    "version": 3
   },
   "file_extension": ".py",
   "mimetype": "text/x-python",
   "name": "python",
   "nbconvert_exporter": "python",
   "pygments_lexer": "ipython3",
   "version": "3.4.3"
  }
 },
 "nbformat": 4,
 "nbformat_minor": 0
}
