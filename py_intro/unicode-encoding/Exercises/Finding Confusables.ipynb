{
 "cells": [
  {
   "cell_type": "markdown",
   "metadata": {},
   "source": [
    "# Finding Confusables"
   ]
  },
  {
   "cell_type": "markdown",
   "metadata": {},
   "source": [
    "## Open URLs.txt and create list of URLs."
   ]
  },
  {
   "cell_type": "code",
   "execution_count": null,
   "metadata": {
    "collapsed": true
   },
   "outputs": [],
   "source": [
    "with open('URLs.txt', encoding='utf-8') as f:\n",
    "    urls = f.read().splitlines()"
   ]
  },
  {
   "cell_type": "markdown",
   "metadata": {},
   "source": [
    "## Create Functions\n",
    "1. is_ascii(c)\n",
    "2. contains_confusables(s)"
   ]
  },
  {
   "cell_type": "code",
   "execution_count": null,
   "metadata": {
    "collapsed": true
   },
   "outputs": [],
   "source": [
    "def is_ascii(c):\n",
    "    \"\"\"Returns boolean indicating if c is ascii\n",
    "    \n",
    "    Keyword arguments:\n",
    "    c (str) - one-character string to check\n",
    "    \"\"\"\n",
    "    pass\n",
    "        \n",
    "def contains_confusables(s):\n",
    "    \"\"\"Searches string for confusables.\n",
    "    Returns 2-element tuple:\n",
    "        t[0]: Boolean - indicating if s contains one or more confusables.\n",
    "        t[1]: String - copy of original string, but with confusables utf-8 encoded.\n",
    "    \n",
    "    Keyword arguments:\n",
    "    s (str) - string to check \n",
    "    \"\"\"\n",
    "    pass"
   ]
  },
  {
   "cell_type": "markdown",
   "metadata": {},
   "source": [
    "## Loop through URLs\n",
    "If the URL does not contain confusables, print it as is.\n",
    "If the URL contains confusables, print the original URL followed by the corrected URL on a new line (and tabbed in)."
   ]
  },
  {
   "cell_type": "code",
   "execution_count": null,
   "metadata": {
    "collapsed": false
   },
   "outputs": [],
   "source": []
  }
 ],
 "metadata": {
  "kernelspec": {
   "display_name": "Python 3",
   "language": "python",
   "name": "python3"
  },
  "language_info": {
   "codemirror_mode": {
    "name": "ipython",
    "version": 3
   },
   "file_extension": ".py",
   "mimetype": "text/x-python",
   "name": "python",
   "nbconvert_exporter": "python",
   "pygments_lexer": "ipython3",
   "version": "3.5.1"
  }
 },
 "nbformat": 4,
 "nbformat_minor": 0
}
